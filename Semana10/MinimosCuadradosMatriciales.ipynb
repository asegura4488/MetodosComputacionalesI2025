{
  "nbformat": 4,
  "nbformat_minor": 0,
  "metadata": {
    "colab": {
      "provenance": [],
      "authorship_tag": "ABX9TyOu7Xnuh5b7RNvyhjUUB7az",
      "include_colab_link": true
    },
    "kernelspec": {
      "name": "python3",
      "display_name": "Python 3"
    },
    "language_info": {
      "name": "python"
    }
  },
  "cells": [
    {
      "cell_type": "markdown",
      "metadata": {
        "id": "view-in-github",
        "colab_type": "text"
      },
      "source": [
        "<a href=\"https://colab.research.google.com/github/asegura4488/MetodosComputacionalesI2025/blob/main/Semana10/MinimosCuadradosMatriciales.ipynb\" target=\"_parent\"><img src=\"https://colab.research.google.com/assets/colab-badge.svg\" alt=\"Open In Colab\"/></a>"
      ]
    },
    {
      "cell_type": "code",
      "execution_count": 1,
      "metadata": {
        "id": "2PAuGFypPgrG"
      },
      "outputs": [],
      "source": [
        "import numpy as np\n",
        "import matplotlib.pyplot as plt"
      ]
    },
    {
      "cell_type": "code",
      "source": [
        "from google.colab import drive\n",
        "from google.colab import files\n",
        "drive.mount('/content/drive', force_remount=True)"
      ],
      "metadata": {
        "id": "Lj2p1-9bPp_d",
        "colab": {
          "base_uri": "https://localhost:8080/"
        },
        "outputId": "4e512a3c-0fae-4aba-ad75-f2f14ba0961b"
      },
      "execution_count": 2,
      "outputs": [
        {
          "output_type": "stream",
          "name": "stdout",
          "text": [
            "Mounted at /content/drive\n"
          ]
        }
      ]
    },
    {
      "cell_type": "code",
      "source": [
        "import os\n",
        "os.chdir('/content/drive/MyDrive/ColabNotebooks/Cursos/MetodosComputacionalesI2025/Semana10')\n",
        "!ls"
      ],
      "metadata": {
        "colab": {
          "base_uri": "https://localhost:8080/"
        },
        "id": "vkFXq0ozJJGa",
        "outputId": "74987a1f-72f1-4979-f7ee-2a0813d05154"
      },
      "execution_count": 5,
      "outputs": [
        {
          "output_type": "stream",
          "name": "stdout",
          "text": [
            "Data\t\t\t\t   MinimosGradienteLevenberg–Marquardt.ipynb\n",
            "MinimosCuadradosMatriciales.ipynb  NewtonRaphson.ipynb\n",
            "MinimosGradiente.ipynb\n"
          ]
        }
      ]
    },
    {
      "cell_type": "code",
      "source": [
        "data = np.loadtxt('Data/MinimosLineal.txt')\n",
        "x_data, y_data = data[:, 0], data[:, 1]"
      ],
      "metadata": {
        "id": "nAUd6w5oJYu1"
      },
      "execution_count": 6,
      "outputs": []
    },
    {
      "cell_type": "code",
      "source": [
        "plt.scatter(x_data, y_data)"
      ],
      "metadata": {
        "colab": {
          "base_uri": "https://localhost:8080/",
          "height": 447
        },
        "id": "aDbOYH2jJlDp",
        "outputId": "62f8f855-2dd7-422d-951d-d581fb26e44c"
      },
      "execution_count": 7,
      "outputs": [
        {
          "output_type": "execute_result",
          "data": {
            "text/plain": [
              "<matplotlib.collections.PathCollection at 0x7c3a2ffda9f0>"
            ]
          },
          "metadata": {},
          "execution_count": 7
        },
        {
          "output_type": "display_data",
          "data": {
            "text/plain": [
              "<Figure size 640x480 with 1 Axes>"
            ],
            "image/png": "[encoded data removed]"
          },
          "metadata": {}
        }
      ]
    },
    {
      "cell_type": "code",
      "source": [
        "def GetFit(x,y,n=1):\n",
        "\n",
        "  l = x.shape[0]\n",
        "  b = y\n",
        "\n",
        "  A = np.ones((l,n+1))\n",
        "  for i in range(1,n+1):\n",
        "    A[:,i] = x**i\n",
        "\n",
        "  AT = np.dot(A.T,A)\n",
        "  bT = np.dot(A.T,b)\n",
        "\n",
        "  xsol = np.linalg.solve(AT,bT)\n",
        "\n",
        "  return xsol"
      ],
      "metadata": {
        "id": "2ff23i7vJqFo"
      },
      "execution_count": 18,
      "outputs": []
    },
    {
      "cell_type": "code",
      "source": [
        "GetFit(x_data, y_data, n=3)"
      ],
      "metadata": {
        "colab": {
          "base_uri": "https://localhost:8080/"
        },
        "id": "jWEPNYm6Kp8i",
        "outputId": "90f60751-8199-48e3-c0f2-903d50f5aedb"
      },
      "execution_count": 40,
      "outputs": [
        {
          "output_type": "execute_result",
          "data": {
            "text/plain": [
              "array([-4.82630228e+00,  1.79530490e+00,  5.03104797e-02, -1.84782414e-03])"
            ]
          },
          "metadata": {},
          "execution_count": 40
        }
      ]
    },
    {
      "cell_type": "code",
      "source": [
        "def GetModel(x,p):\n",
        "\n",
        "  y = 0\n",
        "  for n in range(len(p)):\n",
        "    y += p[n]*x**n\n",
        "\n",
        "  return y"
      ],
      "metadata": {
        "id": "Gm20_PSGKqz2"
      },
      "execution_count": 37,
      "outputs": []
    },
    {
      "cell_type": "code",
      "source": [
        "_x = np.linspace(min(x_data),max(x_data),100)\n",
        "_y = GetModel(_x, GetFit(x_data, y_data, n=2))"
      ],
      "metadata": {
        "id": "xNB7XUuQNPqe"
      },
      "execution_count": 38,
      "outputs": []
    },
    {
      "cell_type": "code",
      "source": [
        "plt.scatter(x_data, y_data)\n",
        "plt.plot(_x,_y,color='r')"
      ],
      "metadata": {
        "colab": {
          "base_uri": "https://localhost:8080/",
          "height": 447
        },
        "id": "IioAxcWiNXjN",
        "outputId": "2fdeae4e-ccf2-4d09-a8cb-c86c857148a4"
      },
      "execution_count": 39,
      "outputs": [
        {
          "output_type": "execute_result",
          "data": {
            "text/plain": [
              "[<matplotlib.lines.Line2D at 0x7c3a1617ac00>]"
            ]
          },
          "metadata": {},
          "execution_count": 39
        },
        {
          "output_type": "display_data",
          "data": {
            "text/plain": [
              "<Figure size 640x480 with 1 Axes>"
            ],
            "image/png": "[encoded data removed]"
          },
          "metadata": {}
        }
      ]
    },
    {
      "cell_type": "code",
      "source": [],
      "metadata": {
        "id": "eNc4taqHNcwT"
      },
      "execution_count": null,
      "outputs": []
    }
  ]
}