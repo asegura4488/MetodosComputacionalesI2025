{
  "nbformat": 4,
  "nbformat_minor": 0,
  "metadata": {
    "colab": {
      "provenance": [],
      "authorship_tag": "ABX9TyOzEonxfoIfhQX+0yAwo4ii",
      "include_colab_link": true
    },
    "kernelspec": {
      "name": "python3",
      "display_name": "Python 3"
    },
    "language_info": {
      "name": "python"
    }
  },
  "cells": [
    {
      "cell_type": "markdown",
      "metadata": {
        "id": "view-in-github",
        "colab_type": "text"
      },
      "source": [
        "<a href=\"https://colab.research.google.com/github/asegura4488/MetodosComputacionalesI2025/blob/main/Semana10/NewtonRaphson.ipynb\" target=\"_parent\"><img src=\"https://colab.research.google.com/assets/colab-badge.svg\" alt=\"Open In Colab\"/></a>"
      ]
    },
    {
      "cell_type": "code",
      "execution_count": 239,
      "metadata": {
        "id": "EV6G7DWcooe0"
      },
      "outputs": [],
      "source": [
        "import numpy as np\n",
        "import matplotlib.pyplot as plt\n",
        "from IPython.display import clear_output\n",
        "import time"
      ]
    },
    {
      "cell_type": "code",
      "source": [
        "def Plotter(e):\n",
        "\n",
        "  fig = plt.figure(figsize=(6,3))\n",
        "  ax = fig.add_subplot(121)\n",
        "  ax1 = fig.add_subplot(122)\n",
        "\n",
        "  ax.set_title('Epoch: {:.0f}'.format(e),fontsize=10)\n",
        "\n",
        "  return fig,ax,ax1"
      ],
      "metadata": {
        "id": "U5c8vgMapLfZ"
      },
      "execution_count": 240,
      "outputs": []
    },
    {
      "cell_type": "code",
      "source": [
        "G = np.array([lambda x,y: np.log(x**2+y**2) - np.sin(x*y) - np.log(2) - np.log(np.pi),\n",
        "              lambda x,y: np.exp(x-y)+np.cos(x*y)])"
      ],
      "metadata": {
        "id": "KPtnbMHYPpAZ"
      },
      "execution_count": 241,
      "outputs": []
    },
    {
      "cell_type": "code",
      "source": [
        "G1 = np.array([lambda x,y: x**2 - y**2 + 1, lambda x,y: 2*x*y])"
      ],
      "metadata": {
        "id": "vnbD6meD6TP4"
      },
      "execution_count": 242,
      "outputs": []
    },
    {
      "cell_type": "code",
      "source": [
        "def GetF(G,r):\n",
        "\n",
        "  n = r.shape[0]\n",
        "  v = np.zeros(n)\n",
        "\n",
        "  for i in range(n):\n",
        "    v[i] = G[i](*r)\n",
        "\n",
        "  return v"
      ],
      "metadata": {
        "id": "Lp6j7E-ipbyG"
      },
      "execution_count": 243,
      "outputs": []
    },
    {
      "cell_type": "code",
      "source": [
        "GetF(G1,np.array([1.,1.]))"
      ],
      "metadata": {
        "colab": {
          "base_uri": "https://localhost:8080/"
        },
        "id": "QmIBWi4kFOJ8",
        "outputId": "12db53f4-cfe4-4838-e31c-e51b94343059"
      },
      "execution_count": 244,
      "outputs": [
        {
          "output_type": "execute_result",
          "data": {
            "text/plain": [
              "array([1., 2.])"
            ]
          },
          "metadata": {},
          "execution_count": 244
        }
      ]
    },
    {
      "cell_type": "code",
      "source": [
        "def GetJacobian(f,r,h=1e-4):\n",
        "\n",
        "  n = r.shape[0]\n",
        "\n",
        "  J = np.zeros((n,n))\n",
        "\n",
        "  for i in range(n):\n",
        "    for j in range(n):\n",
        "\n",
        "      rf = r.copy()\n",
        "      rb = r.copy()\n",
        "\n",
        "      rf[j] = rf[j] + h\n",
        "      rb[j] = rb[j] - h\n",
        "\n",
        "      J[i,j] = (f[i](*rf) - f[i](*rb))/(2*h)\n",
        "\n",
        "  return J"
      ],
      "metadata": {
        "id": "7xJZy6t9qRKw"
      },
      "execution_count": 245,
      "outputs": []
    },
    {
      "cell_type": "code",
      "source": [
        "J = GetJacobian(G,np.array([1.,1.]))\n",
        "J"
      ],
      "metadata": {
        "colab": {
          "base_uri": "https://localhost:8080/"
        },
        "id": "ILk4mS0-4evt",
        "outputId": "4de2d6ce-7f9a-488a-a056-b4348ca5968b"
      },
      "execution_count": 246,
      "outputs": [
        {
          "output_type": "execute_result",
          "data": {
            "text/plain": [
              "array([[ 0.45969769,  0.45969769],\n",
              "       [ 0.15852902, -1.84147099]])"
            ]
          },
          "metadata": {},
          "execution_count": 246
        }
      ]
    },
    {
      "cell_type": "code",
      "source": [
        "def Minimizer(G,r,epochs=int(1e5),error=1e-10):\n",
        "\n",
        "  metric = 1\n",
        "  it = 0\n",
        "\n",
        "  M = np.array([])\n",
        "  history = np.array([r])\n",
        "\n",
        "  while metric > error and it < epochs:\n",
        "\n",
        "\n",
        "    rc = r # Valor actual\n",
        "\n",
        "\n",
        "    J = GetJacobian(G,r)\n",
        "    Inv = np.linalg.inv(J)\n",
        "    Vector = GetF(G,r)\n",
        "\n",
        "    # Algoritmo de Newton Raphson General\n",
        "    r = rc - np.dot(Inv,Vector)\n",
        "\n",
        "    # Gauss - Newton\n",
        "    #delta = np.linalg.solve(J.T @ J, -J.T @ Vector)\n",
        "    #r = rc + delta\n",
        "\n",
        "    history = np.vstack((history,r))\n",
        "    metric = np.linalg.norm(rc-r)\n",
        "    M = np.append(M,metric)\n",
        "\n",
        "    if it % 1 == 0:\n",
        "      clear_output(wait=True)\n",
        "      _,ax,ax1 = Plotter(it)\n",
        "      ax.plot(history[:it])\n",
        "      ax.legend(['$u_{}$: {:.8}'.format(i, r[i]) for i in range(len(r))])\n",
        "      ax1.plot(M[:it],color='k',label='Metric {:.16f}'.format(M[-1]))\n",
        "      ax1.legend()\n",
        "\n",
        "      plt.show()\n",
        "\n",
        "      time.sleep(0.01)\n",
        "\n",
        "    it += 1\n",
        "\n",
        "  print(it)\n",
        "  return r"
      ],
      "metadata": {
        "id": "K_M2FUde4g1s"
      },
      "execution_count": 251,
      "outputs": []
    },
    {
      "cell_type": "code",
      "source": [
        "xsol = Minimizer(G1,np.array([3.,0.5]))"
      ],
      "metadata": {
        "colab": {
          "base_uri": "https://localhost:8080/",
          "height": 329
        },
        "id": "ydzm1xAY7yxR",
        "outputId": "baa17ee2-daec-4c79-f13a-70a0a506434b"
      },
      "execution_count": 252,
      "outputs": [
        {
          "output_type": "display_data",
          "data": {
            "text/plain": [
              "<Figure size 600x300 with 2 Axes>"
            ],
            "image/png": "[encoded data removed]"
          },
          "metadata": {}
        },
        {
          "output_type": "stream",
          "name": "stdout",
          "text": [
            "9\n"
          ]
        }
      ]
    },
    {
      "cell_type": "code",
      "source": [
        "xsol"
      ],
      "metadata": {
        "id": "rBbtDZd9OleY",
        "colab": {
          "base_uri": "https://localhost:8080/"
        },
        "outputId": "5cc512bd-1ef1-41cb-8267-7c045e5c4d66"
      },
      "execution_count": 256,
      "outputs": [
        {
          "output_type": "execute_result",
          "data": {
            "text/plain": [
              "array([3.44520725e-22, 1.00000000e+00])"
            ]
          },
          "metadata": {},
          "execution_count": 256
        }
      ]
    },
    {
      "cell_type": "code",
      "source": [
        "GetF(G1,xsol)"
      ],
      "metadata": {
        "colab": {
          "base_uri": "https://localhost:8080/"
        },
        "id": "onduqBXk8AzI",
        "outputId": "ea390e95-44cc-413b-f109-92ad1febc38c"
      },
      "execution_count": 257,
      "outputs": [
        {
          "output_type": "execute_result",
          "data": {
            "text/plain": [
              "array([0.0000000e+00, 6.8904145e-22])"
            ]
          },
          "metadata": {},
          "execution_count": 257
        }
      ]
    },
    {
      "cell_type": "code",
      "source": [],
      "metadata": {
        "id": "weKImKGL8VkJ"
      },
      "execution_count": 225,
      "outputs": []
    },
    {
      "cell_type": "markdown",
      "source": [],
      "metadata": {
        "id": "rdZSikcx8-HI"
      }
    }
  ]
}