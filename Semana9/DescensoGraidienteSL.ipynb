{
  "nbformat": 4,
  "nbformat_minor": 0,
  "metadata": {
    "colab": {
      "provenance": [],
      "authorship_tag": "ABX9TyNVrFgxM25fGvLqwNGGKSDB",
      "include_colab_link": true
    },
    "kernelspec": {
      "name": "python3",
      "display_name": "Python 3"
    },
    "language_info": {
      "name": "python"
    }
  },
  "cells": [
    {
      "cell_type": "markdown",
      "metadata": {
        "id": "view-in-github",
        "colab_type": "text"
      },
      "source": [
        "<a href=\"https://colab.research.google.com/github/asegura4488/MetodosComputacionalesI2025/blob/main/Semana9/DescensoGraidienteSL.ipynb\" target=\"_parent\"><img src=\"https://colab.research.google.com/assets/colab-badge.svg\" alt=\"Open In Colab\"/></a>"
      ]
    },
    {
      "cell_type": "code",
      "execution_count": 51,
      "metadata": {
        "id": "EV6G7DWcooe0"
      },
      "outputs": [],
      "source": [
        "import numpy as np\n",
        "import matplotlib.pyplot as plt\n",
        "from IPython.display import clear_output\n",
        "import time"
      ]
    },
    {
      "cell_type": "code",
      "source": [
        "\n",
        "def Plotter(e):\n",
        "\n",
        "  fig = plt.figure(figsize=(6,3))\n",
        "  ax = fig.add_subplot(121)\n",
        "  ax1 = fig.add_subplot(122)\n",
        "\n",
        "  ax.set_title('Epoch: {:.0f}'.format(e),fontsize=10)\n",
        "\n",
        "  return fig,ax,ax1"
      ],
      "metadata": {
        "id": "U5c8vgMapLfZ"
      },
      "execution_count": 52,
      "outputs": []
    },
    {
      "cell_type": "code",
      "source": [],
      "metadata": {
        "id": "OJJpSwLr5i61"
      },
      "execution_count": 52,
      "outputs": []
    },
    {
      "cell_type": "code",
      "source": [
        "G =(lambda x,y,z: 3*x - y - z - 1., \\\n",
        "    lambda x,y,z: -x + 3*y + z - 3., \\\n",
        "    lambda x,y,z: 2*x + y + 4*z - 7.)"
      ],
      "metadata": {
        "id": "SF6PbzwMpVXH"
      },
      "execution_count": 53,
      "outputs": []
    },
    {
      "cell_type": "code",
      "source": [
        "G1 = np.array([lambda x,y: np.log(x**2+y**2) - np.sin(x*y) - np.log(2) - np.log(np.pi),\n",
        "              lambda x,y: np.exp(x-y)+np.cos(x*y)])"
      ],
      "metadata": {
        "id": "KPtnbMHYPpAZ"
      },
      "execution_count": 54,
      "outputs": []
    },
    {
      "cell_type": "code",
      "source": [
        "def GetF(G,r):\n",
        "\n",
        "  n = r.shape[0]\n",
        "  v = np.zeros(n)\n",
        "\n",
        "  for i in range(n):\n",
        "    v[i] = G[i](*r)\n",
        "\n",
        "  return v"
      ],
      "metadata": {
        "id": "Lp6j7E-ipbyG"
      },
      "execution_count": 68,
      "outputs": []
    },
    {
      "cell_type": "code",
      "source": [
        "GetF(G,np.array([0.,10.,0.]))"
      ],
      "metadata": {
        "colab": {
          "base_uri": "https://localhost:8080/"
        },
        "id": "QmIBWi4kFOJ8",
        "outputId": "5e712c99-9192-408c-b538-20e36b10379d"
      },
      "execution_count": 69,
      "outputs": [
        {
          "output_type": "execute_result",
          "data": {
            "text/plain": [
              "array([-11.,  27.,   3.])"
            ]
          },
          "metadata": {},
          "execution_count": 69
        }
      ]
    },
    {
      "cell_type": "code",
      "source": [
        "def Metric(G,r):\n",
        "  return 0.5*np.linalg.norm(GetF(G,r))"
      ],
      "metadata": {
        "id": "wQqmijvSFh2C"
      },
      "execution_count": 70,
      "outputs": []
    },
    {
      "cell_type": "code",
      "source": [
        "Metric(G,np.array([0.,5.,3.]))"
      ],
      "metadata": {
        "colab": {
          "base_uri": "https://localhost:8080/"
        },
        "id": "jb1FvNXvFntK",
        "outputId": "92c46049-8d0f-43cd-c590-11097ddbf935"
      },
      "execution_count": 71,
      "outputs": [
        {
          "output_type": "execute_result",
          "data": {
            "text/plain": [
              "np.float64(10.074720839804943)"
            ]
          },
          "metadata": {},
          "execution_count": 71
        }
      ]
    },
    {
      "cell_type": "code",
      "source": [
        "def GetJacobian(f,r,h=1e-3):\n",
        "\n",
        "  n = r.shape[0]\n",
        "\n",
        "  J = np.zeros((n,n))\n",
        "\n",
        "  for i in range(n):\n",
        "    for j in range(n):\n",
        "\n",
        "      rf = r.copy()\n",
        "      rb = r.copy()\n",
        "\n",
        "      rf[j] = rf[j] + h\n",
        "      rb[j] = rb[j] - h\n",
        "\n",
        "      J[i,j] = (f[i](*rf) - f[i](*rb))/(2*h)\n",
        "\n",
        "  return J"
      ],
      "metadata": {
        "id": "7xJZy6t9qRKw"
      },
      "execution_count": 72,
      "outputs": []
    },
    {
      "cell_type": "code",
      "source": [
        "J = GetJacobian(G,np.array([0.,0.,1.]))\n",
        "J"
      ],
      "metadata": {
        "colab": {
          "base_uri": "https://localhost:8080/"
        },
        "id": "ILk4mS0-4evt",
        "outputId": "e5ed4506-0996-46b6-9ebf-55470120e480"
      },
      "execution_count": 73,
      "outputs": [
        {
          "output_type": "execute_result",
          "data": {
            "text/plain": [
              "array([[ 3., -1., -1.],\n",
              "       [-1.,  3.,  1.],\n",
              "       [ 2.,  1.,  4.]])"
            ]
          },
          "metadata": {},
          "execution_count": 73
        }
      ]
    },
    {
      "cell_type": "code",
      "source": [
        "def Minimizer(G,r,lr=5e-3,epochs=int(1e5),error=1e-3):\n",
        "\n",
        "  metric = 1\n",
        "  it = 0\n",
        "\n",
        "  M = np.array([])\n",
        "  history = np.array([r])\n",
        "\n",
        "  while metric > error and it < epochs:\n",
        "\n",
        "    M = np.append(M,Metric(G,r))\n",
        "\n",
        "    J = GetJacobian(G,r)\n",
        "    Vector = GetF(G,r)\n",
        "\n",
        "    # Algoritmo\n",
        "    r = r - lr*np.dot(J.T,Vector)\n",
        "\n",
        "    history = np.vstack((history,r))\n",
        "\n",
        "    metric = Metric(G,r)\n",
        "\n",
        "    if it % 100 == 0:\n",
        "      clear_output(wait=True)\n",
        "      _,ax,ax1 = Plotter(it)\n",
        "      ax.plot(history[:it])\n",
        "      ax1.plot(M[:it],color='k',label='Metric {:.3f}'.format(M[-1]))\n",
        "      ax1.legend()\n",
        "\n",
        "      plt.show()\n",
        "\n",
        "      time.sleep(0.01)\n",
        "\n",
        "    it += 1\n",
        "\n",
        "  return r"
      ],
      "metadata": {
        "id": "K_M2FUde4g1s"
      },
      "execution_count": 74,
      "outputs": []
    },
    {
      "cell_type": "code",
      "source": [
        "xsol = Minimizer(G1,np.array([1.,2.]))"
      ],
      "metadata": {
        "colab": {
          "base_uri": "https://localhost:8080/",
          "height": 311
        },
        "id": "ydzm1xAY7yxR",
        "outputId": "c90d49a4-2483-4a76-d07d-8d7f1541be90"
      },
      "execution_count": 75,
      "outputs": [
        {
          "output_type": "display_data",
          "data": {
            "text/plain": [
              "<Figure size 600x300 with 2 Axes>"
            ],
            "image/png": "[encoded data removed]"
          },
          "metadata": {}
        }
      ]
    },
    {
      "cell_type": "code",
      "source": [
        "xsol"
      ],
      "metadata": {
        "colab": {
          "base_uri": "https://localhost:8080/"
        },
        "id": "Lg7Fp6w6LFPC",
        "outputId": "e066c8c8-8fa9-4cc2-8c20-3512cc8394fc"
      },
      "execution_count": 76,
      "outputs": [
        {
          "output_type": "execute_result",
          "data": {
            "text/plain": [
              "array([1.77145834, 1.77344981])"
            ]
          },
          "metadata": {},
          "execution_count": 76
        }
      ]
    },
    {
      "cell_type": "code",
      "source": [
        "GetF(G1,xsol)"
      ],
      "metadata": {
        "colab": {
          "base_uri": "https://localhost:8080/"
        },
        "id": "onduqBXk8AzI",
        "outputId": "eb014e7a-a3bd-4cd2-dfad-8219af45e524"
      },
      "execution_count": 77,
      "outputs": [
        {
          "output_type": "execute_result",
          "data": {
            "text/plain": [
              "array([ 3.84497757e-07, -1.98948755e-03])"
            ]
          },
          "metadata": {},
          "execution_count": 77
        }
      ]
    },
    {
      "cell_type": "code",
      "source": [],
      "metadata": {
        "id": "weKImKGL8VkJ"
      },
      "execution_count": 64,
      "outputs": []
    },
    {
      "cell_type": "markdown",
      "source": [],
      "metadata": {
        "id": "rdZSikcx8-HI"
      }
    }
  ]
}