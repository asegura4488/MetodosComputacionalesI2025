{
  "nbformat": 4,
  "nbformat_minor": 0,
  "metadata": {
    "colab": {
      "provenance": [],
      "authorship_tag": "ABX9TyMT0kCf+p4HV+COHvEHDOcF",
      "include_colab_link": true
    },
    "kernelspec": {
      "name": "python3",
      "display_name": "Python 3"
    },
    "language_info": {
      "name": "python"
    }
  },
  "cells": [
    {
      "cell_type": "markdown",
      "metadata": {
        "id": "view-in-github",
        "colab_type": "text"
      },
      "source": [
        "<a href=\"https://colab.research.google.com/github/asegura4488/MetodosComputacionalesI2025/blob/main/Semana9/DescensoGraidienteSL.ipynb\" target=\"_parent\"><img src=\"https://colab.research.google.com/assets/colab-badge.svg\" alt=\"Open In Colab\"/></a>"
      ]
    },
    {
      "cell_type": "code",
      "source": [
        "from google.colab import drive\n",
        "from google.colab import files\n",
        "drive.mount('/content/drive', force_remount=True)"
      ],
      "metadata": {
        "colab": {
          "base_uri": "https://localhost:8080/"
        },
        "id": "3UNogOKCPwVo",
        "outputId": "64866196-a129-4502-a0b6-5c00044ed604"
      },
      "execution_count": 99,
      "outputs": [
        {
          "output_type": "stream",
          "name": "stdout",
          "text": [
            "Mounted at /content/drive\n"
          ]
        }
      ]
    },
    {
      "cell_type": "code",
      "source": [
        "import os\n",
        "os.chdir('/content/drive/MyDrive/ColabNotebooks/Cursos/MetodosComputacionalesI2025/Semana9/')\n",
        "!ls"
      ],
      "metadata": {
        "colab": {
          "base_uri": "https://localhost:8080/"
        },
        "id": "s2QlfqRhPyRZ",
        "outputId": "e949f8ed-0e09-4e73-f1b3-0bd6ffb9ce4c"
      },
      "execution_count": 100,
      "outputs": [
        {
          "output_type": "stream",
          "name": "stdout",
          "text": [
            "DescensoGraidienteSL.ipynb  training.pdf\n"
          ]
        }
      ]
    },
    {
      "cell_type": "code",
      "execution_count": 101,
      "metadata": {
        "id": "EV6G7DWcooe0"
      },
      "outputs": [],
      "source": [
        "import numpy as np\n",
        "import matplotlib.pyplot as plt\n",
        "from IPython.display import clear_output\n",
        "import time"
      ]
    },
    {
      "cell_type": "code",
      "source": [
        "def Plotter(e):\n",
        "\n",
        "  fig = plt.figure(figsize=(6,3))\n",
        "  ax = fig.add_subplot(121)\n",
        "  ax1 = fig.add_subplot(122)\n",
        "\n",
        "  ax.set_title('Epoch: {:.0f}'.format(e),fontsize=10)\n",
        "\n",
        "  return fig,ax,ax1"
      ],
      "metadata": {
        "id": "U5c8vgMapLfZ"
      },
      "execution_count": 102,
      "outputs": []
    },
    {
      "cell_type": "code",
      "source": [],
      "metadata": {
        "id": "OJJpSwLr5i61"
      },
      "execution_count": 102,
      "outputs": []
    },
    {
      "cell_type": "code",
      "source": [
        "G =(lambda x,y,z: 3*x - y - z - 1., \\\n",
        "    lambda x,y,z: -x + 3*y + z - 3., \\\n",
        "    lambda x,y,z: 2*x + y + 4*z - 7.)"
      ],
      "metadata": {
        "id": "SF6PbzwMpVXH"
      },
      "execution_count": 103,
      "outputs": []
    },
    {
      "cell_type": "code",
      "source": [
        "G1 = np.array([lambda x,y: np.log(x**2+y**2) - np.sin(x*y) - np.log(2) - np.log(np.pi),\n",
        "              lambda x,y: np.exp(x-y)+np.cos(x*y)])"
      ],
      "metadata": {
        "id": "KPtnbMHYPpAZ"
      },
      "execution_count": 104,
      "outputs": []
    },
    {
      "cell_type": "code",
      "source": [
        "def GetF(G,r):\n",
        "\n",
        "  n = r.shape[0]\n",
        "  v = np.zeros(n)\n",
        "\n",
        "  for i in range(n):\n",
        "    v[i] = G[i](*r)\n",
        "\n",
        "  return v"
      ],
      "metadata": {
        "id": "Lp6j7E-ipbyG"
      },
      "execution_count": 105,
      "outputs": []
    },
    {
      "cell_type": "code",
      "source": [
        "GetF(G,np.array([0.,10.,0.]))"
      ],
      "metadata": {
        "colab": {
          "base_uri": "https://localhost:8080/"
        },
        "id": "QmIBWi4kFOJ8",
        "outputId": "b47d95a9-5f54-450c-d3b8-14322de54e22"
      },
      "execution_count": 106,
      "outputs": [
        {
          "output_type": "execute_result",
          "data": {
            "text/plain": [
              "array([-11.,  27.,   3.])"
            ]
          },
          "metadata": {},
          "execution_count": 106
        }
      ]
    },
    {
      "cell_type": "code",
      "source": [
        "def Metric(G,r):\n",
        "  return 0.5*np.linalg.norm(GetF(G,r))"
      ],
      "metadata": {
        "id": "wQqmijvSFh2C"
      },
      "execution_count": 107,
      "outputs": []
    },
    {
      "cell_type": "code",
      "source": [
        "Metric(G,np.array([0.,5.,3.]))"
      ],
      "metadata": {
        "colab": {
          "base_uri": "https://localhost:8080/"
        },
        "id": "jb1FvNXvFntK",
        "outputId": "783838d6-0c10-4b8d-b723-6bee15bc9bdf"
      },
      "execution_count": 108,
      "outputs": [
        {
          "output_type": "execute_result",
          "data": {
            "text/plain": [
              "np.float64(10.074720839804943)"
            ]
          },
          "metadata": {},
          "execution_count": 108
        }
      ]
    },
    {
      "cell_type": "code",
      "source": [
        "def GetJacobian(f,r,h=1e-3):\n",
        "\n",
        "  n = r.shape[0]\n",
        "\n",
        "  J = np.zeros((n,n))\n",
        "\n",
        "  for i in range(n):\n",
        "    for j in range(n):\n",
        "\n",
        "      rf = r.copy()\n",
        "      rb = r.copy()\n",
        "\n",
        "      rf[j] = rf[j] + h\n",
        "      rb[j] = rb[j] - h\n",
        "\n",
        "      J[i,j] = (f[i](*rf) - f[i](*rb))/(2*h)\n",
        "\n",
        "  return J"
      ],
      "metadata": {
        "id": "7xJZy6t9qRKw"
      },
      "execution_count": 109,
      "outputs": []
    },
    {
      "cell_type": "code",
      "source": [
        "J = GetJacobian(G,np.array([0.,0.,1.]))\n",
        "J"
      ],
      "metadata": {
        "colab": {
          "base_uri": "https://localhost:8080/"
        },
        "id": "ILk4mS0-4evt",
        "outputId": "799eec5a-55b3-4ea7-a885-02d9f770d584"
      },
      "execution_count": 110,
      "outputs": [
        {
          "output_type": "execute_result",
          "data": {
            "text/plain": [
              "array([[ 3., -1., -1.],\n",
              "       [-1.,  3.,  1.],\n",
              "       [ 2.,  1.,  4.]])"
            ]
          },
          "metadata": {},
          "execution_count": 110
        }
      ]
    },
    {
      "cell_type": "code",
      "source": [
        "def Minimizer(G,r,lr=5e-3,epochs=int(1e5),error=1e-3):\n",
        "\n",
        "  metric = 1\n",
        "  it = 0\n",
        "\n",
        "  M = np.array([])\n",
        "  history = np.array([r])\n",
        "\n",
        "  while metric > error and it < epochs:\n",
        "\n",
        "    M = np.append(M,Metric(G,r))\n",
        "\n",
        "    J = GetJacobian(G,r)\n",
        "    Vector = GetF(G,r)\n",
        "\n",
        "    # Algoritmo\n",
        "    r = r - lr*np.dot(J.T,Vector)\n",
        "\n",
        "    history = np.vstack((history,r))\n",
        "\n",
        "    metric = Metric(G,r)\n",
        "\n",
        "    if it % 100 == 0:\n",
        "      clear_output(wait=True)\n",
        "      _,ax,ax1 = Plotter(it)\n",
        "      ax.plot(history[:it])\n",
        "      ax.legend(['$u_{}$: {:.8}'.format(i, r[i]) for i in range(len(r))])\n",
        "      ax1.plot(M[:it],color='k',label='Metric {:.3f}'.format(M[-1]))\n",
        "      ax1.legend()\n",
        "\n",
        "      plt.show()\n",
        "\n",
        "      time.sleep(0.01)\n",
        "\n",
        "    it += 1\n",
        "\n",
        "  # Cuando termine guardamos la grafica\n",
        "  _,ax,ax1 = Plotter(it)\n",
        "  ax.plot(history[:it])\n",
        "  ax.legend(['$u_{}$: {:.8}'.format(i, r[i]) for i in range(len(r))])\n",
        "  ax1.plot(M[:it],color='k',label='Metric {:.3f}'.format(M[-1]))\n",
        "  ax1.legend()\n",
        "  plt.savefig('training.pdf')\n",
        "\n",
        "  return r"
      ],
      "metadata": {
        "id": "K_M2FUde4g1s"
      },
      "execution_count": 111,
      "outputs": []
    },
    {
      "cell_type": "code",
      "source": [
        "xsol = Minimizer(G1,np.array([1.,2.]))"
      ],
      "metadata": {
        "colab": {
          "base_uri": "https://localhost:8080/",
          "height": 605
        },
        "id": "ydzm1xAY7yxR",
        "outputId": "a00e25e3-b3c5-438b-811d-411a6eacd2c6"
      },
      "execution_count": 112,
      "outputs": [
        {
          "output_type": "display_data",
          "data": {
            "text/plain": [
              "<Figure size 600x300 with 2 Axes>"
            ],
            "image/png": "[encoded data removed]"
          },
          "metadata": {}
        },
        {
          "output_type": "display_data",
          "data": {
            "text/plain": [
              "<Figure size 600x300 with 2 Axes>"
            ],
            "image/png": "[encoded data removed]"
          },
          "metadata": {}
        }
      ]
    },
    {
      "cell_type": "code",
      "source": [],
      "metadata": {
        "id": "rBbtDZd9OleY"
      },
      "execution_count": 112,
      "outputs": []
    },
    {
      "cell_type": "code",
      "source": [],
      "metadata": {
        "id": "W_3CgbGRO7ku"
      },
      "execution_count": 112,
      "outputs": []
    },
    {
      "cell_type": "code",
      "source": [
        "xsol"
      ],
      "metadata": {
        "colab": {
          "base_uri": "https://localhost:8080/"
        },
        "id": "Lg7Fp6w6LFPC",
        "outputId": "d335e95a-adff-4bb9-a894-e2d72d940c0f"
      },
      "execution_count": 113,
      "outputs": [
        {
          "output_type": "execute_result",
          "data": {
            "text/plain": [
              "array([1.77145834, 1.77344981])"
            ]
          },
          "metadata": {},
          "execution_count": 113
        }
      ]
    },
    {
      "cell_type": "code",
      "source": [
        "GetF(G1,xsol)"
      ],
      "metadata": {
        "colab": {
          "base_uri": "https://localhost:8080/"
        },
        "id": "onduqBXk8AzI",
        "outputId": "892fcc5f-94f5-48d6-f308-05497ea5cb2a"
      },
      "execution_count": 114,
      "outputs": [
        {
          "output_type": "execute_result",
          "data": {
            "text/plain": [
              "array([ 3.84497757e-07, -1.98948755e-03])"
            ]
          },
          "metadata": {},
          "execution_count": 114
        }
      ]
    },
    {
      "cell_type": "code",
      "source": [],
      "metadata": {
        "id": "weKImKGL8VkJ"
      },
      "execution_count": 64,
      "outputs": []
    },
    {
      "cell_type": "markdown",
      "source": [],
      "metadata": {
        "id": "rdZSikcx8-HI"
      }
    }
  ]
}