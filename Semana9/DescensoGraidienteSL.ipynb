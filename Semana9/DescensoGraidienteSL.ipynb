{
  "nbformat": 4,
  "nbformat_minor": 0,
  "metadata": {
    "colab": {
      "provenance": [],
      "authorship_tag": "ABX9TyOc5TItkKUajfqw4mdT0pvp",
      "include_colab_link": true
    },
    "kernelspec": {
      "name": "python3",
      "display_name": "Python 3"
    },
    "language_info": {
      "name": "python"
    }
  },
  "cells": [
    {
      "cell_type": "markdown",
      "metadata": {
        "id": "view-in-github",
        "colab_type": "text"
      },
      "source": [
        "<a href=\"https://colab.research.google.com/github/asegura4488/MetodosComputacionalesI2025/blob/main/Semana9/DescensoGraidienteSL.ipynb\" target=\"_parent\"><img src=\"https://colab.research.google.com/assets/colab-badge.svg\" alt=\"Open In Colab\"/></a>"
      ]
    },
    {
      "cell_type": "code",
      "execution_count": 25,
      "metadata": {
        "id": "EV6G7DWcooe0"
      },
      "outputs": [],
      "source": [
        "import numpy as np\n",
        "import matplotlib.pyplot as plt\n",
        "from IPython.display import clear_output\n",
        "import time"
      ]
    },
    {
      "cell_type": "code",
      "source": [
        "\n",
        "def Plotter(e):\n",
        "\n",
        "  fig = plt.figure(figsize=(6,3))\n",
        "  ax = fig.add_subplot(121)\n",
        "  ax1 = fig.add_subplot(122)\n",
        "\n",
        "  ax.set_title('Epoch: {:.0f}'.format(e),fontsize=10)\n",
        "\n",
        "  return fig,ax,ax1"
      ],
      "metadata": {
        "id": "U5c8vgMapLfZ"
      },
      "execution_count": 26,
      "outputs": []
    },
    {
      "cell_type": "code",
      "source": [
        "# Definamos el sistema usando una lista\n",
        "G = (lambda x,y,z: 3*x - np.cos(y*z) - 1.5, \\\n",
        "     lambda x,y,z: 4*x**2 - 625*y**2 + 2*y -1, \\\n",
        "     lambda x,y,z: np.exp(-x*y) + 20*z + 9.471975)"
      ],
      "metadata": {
        "id": "OJJpSwLr5i61"
      },
      "execution_count": 27,
      "outputs": []
    },
    {
      "cell_type": "code",
      "source": [
        "G1=(lambda x,y,z: 3*x - y - z - 1., \\\n",
        "    lambda x,y,z: -x + 3*y + z - 3., \\\n",
        "    lambda x,y,z: 2*x + y + 4*z - 7.)"
      ],
      "metadata": {
        "id": "SF6PbzwMpVXH"
      },
      "execution_count": 28,
      "outputs": []
    },
    {
      "cell_type": "code",
      "source": [
        "def GetF(G,r):\n",
        "\n",
        "  n = r.shape[0]\n",
        "  v = np.zeros(n)\n",
        "\n",
        "  for i in range(n):\n",
        "    v[i] = G[i](*r)\n",
        "\n",
        "  return v"
      ],
      "metadata": {
        "id": "Lp6j7E-ipbyG"
      },
      "execution_count": 29,
      "outputs": []
    },
    {
      "cell_type": "code",
      "source": [
        "GetF(G1,np.array([0.,10.,0.]))"
      ],
      "metadata": {
        "colab": {
          "base_uri": "https://localhost:8080/"
        },
        "id": "QmIBWi4kFOJ8",
        "outputId": "7e3161f8-f32b-4fa7-ac44-c29840c528a5"
      },
      "execution_count": 30,
      "outputs": [
        {
          "output_type": "execute_result",
          "data": {
            "text/plain": [
              "array([-11.,  27.,   3.])"
            ]
          },
          "metadata": {},
          "execution_count": 30
        }
      ]
    },
    {
      "cell_type": "code",
      "source": [
        "def Metric(G,r):\n",
        "  return 0.5*np.linalg.norm(GetF(G,r))"
      ],
      "metadata": {
        "id": "wQqmijvSFh2C"
      },
      "execution_count": 31,
      "outputs": []
    },
    {
      "cell_type": "code",
      "source": [
        "Metric(G1,np.array([0.,5.,3.]))"
      ],
      "metadata": {
        "colab": {
          "base_uri": "https://localhost:8080/"
        },
        "id": "jb1FvNXvFntK",
        "outputId": "b9826849-ba5d-44d3-c475-74c417ad0b56"
      },
      "execution_count": 32,
      "outputs": [
        {
          "output_type": "execute_result",
          "data": {
            "text/plain": [
              "np.float64(10.074720839804943)"
            ]
          },
          "metadata": {},
          "execution_count": 32
        }
      ]
    },
    {
      "cell_type": "code",
      "source": [
        "def GetJacobian(f,r,h=1e-3):\n",
        "\n",
        "  n = r.shape[0]\n",
        "\n",
        "  J = np.zeros((n,n))\n",
        "\n",
        "  for i in range(n):\n",
        "    for j in range(n):\n",
        "\n",
        "      rf = r.copy()\n",
        "      rb = r.copy()\n",
        "\n",
        "      rf[j] = rf[j] + h\n",
        "      rb[j] = rb[j] - h\n",
        "\n",
        "      J[i,j] = (f[i](*rf) - f[i](*rb))/(2*h)\n",
        "\n",
        "  return J"
      ],
      "metadata": {
        "id": "7xJZy6t9qRKw"
      },
      "execution_count": 33,
      "outputs": []
    },
    {
      "cell_type": "code",
      "source": [
        "J = GetJacobian(G1,np.array([0.,0.,1.]))\n",
        "J"
      ],
      "metadata": {
        "colab": {
          "base_uri": "https://localhost:8080/"
        },
        "id": "ILk4mS0-4evt",
        "outputId": "73d92d88-187d-4ae6-a9bc-0e7a34ac654d"
      },
      "execution_count": 35,
      "outputs": [
        {
          "output_type": "execute_result",
          "data": {
            "text/plain": [
              "array([[ 3., -1., -1.],\n",
              "       [-1.,  3.,  1.],\n",
              "       [ 2.,  1.,  4.]])"
            ]
          },
          "metadata": {},
          "execution_count": 35
        }
      ]
    },
    {
      "cell_type": "code",
      "source": [
        "def Minimizer(G,r,lr=1e-4,epochs=int(1e4),error=1e-3):\n",
        "\n",
        "  metric = 1\n",
        "  it = 0\n",
        "\n",
        "  M = np.array([])\n",
        "  history = np.array([r])\n",
        "\n",
        "  while metric > error and it < epochs:\n",
        "\n",
        "    M = np.append(M,Metric(G,r))\n",
        "\n",
        "    J = GetJacobian(G,r)\n",
        "    Vector = GetF(G,r)\n",
        "\n",
        "    # Algoritmo\n",
        "    r = r - lr*np.dot(J.T,Vector)\n",
        "\n",
        "    history = np.vstack((history,r))\n",
        "\n",
        "    metric = Metric(G,r)\n",
        "\n",
        "    if it % 100 == 0:\n",
        "      clear_output(wait=True)\n",
        "      _,ax,ax1 = Plotter(it)\n",
        "      ax.plot(history[:it])\n",
        "      ax1.plot(M[:it],color='k',label='Metric {:.3f}'.format(M[-1]))\n",
        "      ax1.legend()\n",
        "\n",
        "      plt.show()\n",
        "\n",
        "      time.sleep(0.1)\n",
        "\n",
        "    it += 1\n",
        "\n",
        "  return r"
      ],
      "metadata": {
        "id": "K_M2FUde4g1s"
      },
      "execution_count": 45,
      "outputs": []
    },
    {
      "cell_type": "code",
      "source": [
        "xsol = Minimizer(G,np.array([0.,0.,0.]))"
      ],
      "metadata": {
        "colab": {
          "base_uri": "https://localhost:8080/",
          "height": 311
        },
        "id": "ydzm1xAY7yxR",
        "outputId": "e19746e9-c480-405a-b6a4-d64c29862f13"
      },
      "execution_count": 46,
      "outputs": [
        {
          "output_type": "display_data",
          "data": {
            "text/plain": [
              "<Figure size 600x300 with 2 Axes>"
            ],
            "image/png": "[encoded data removed]"
          },
          "metadata": {}
        }
      ]
    },
    {
      "cell_type": "code",
      "source": [
        "xsol"
      ],
      "metadata": {
        "colab": {
          "base_uri": "https://localhost:8080/"
        },
        "id": "Lg7Fp6w6LFPC",
        "outputId": "b4bd77d8-e644-490f-ce11-e8001b32d159"
      },
      "execution_count": 47,
      "outputs": [
        {
          "output_type": "execute_result",
          "data": {
            "text/plain": [
              "array([ 0.83253079,  0.05487696, -0.52136592])"
            ]
          },
          "metadata": {},
          "execution_count": 47
        }
      ]
    },
    {
      "cell_type": "code",
      "source": [
        "GetF(G,xsol)"
      ],
      "metadata": {
        "colab": {
          "base_uri": "https://localhost:8080/"
        },
        "id": "onduqBXk8AzI",
        "outputId": "5864306f-5e7a-4bac-c927-9edcf52b5c53"
      },
      "execution_count": 49,
      "outputs": [
        {
          "output_type": "execute_result",
          "data": {
            "text/plain": [
              "array([-1.99836946e-03,  8.51317961e-06, -2.16657801e-06])"
            ]
          },
          "metadata": {},
          "execution_count": 49
        }
      ]
    },
    {
      "cell_type": "code",
      "source": [],
      "metadata": {
        "id": "weKImKGL8VkJ"
      },
      "execution_count": 35,
      "outputs": []
    },
    {
      "cell_type": "markdown",
      "source": [],
      "metadata": {
        "id": "rdZSikcx8-HI"
      }
    }
  ]
}