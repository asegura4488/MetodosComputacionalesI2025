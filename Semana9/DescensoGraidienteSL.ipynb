{
  "nbformat": 4,
  "nbformat_minor": 0,
  "metadata": {
    "colab": {
      "provenance": [],
      "authorship_tag": "ABX9TyNJZUwOmzwSH8ZOn8NapI6J",
      "include_colab_link": true
    },
    "kernelspec": {
      "name": "python3",
      "display_name": "Python 3"
    },
    "language_info": {
      "name": "python"
    }
  },
  "cells": [
    {
      "cell_type": "markdown",
      "metadata": {
        "id": "view-in-github",
        "colab_type": "text"
      },
      "source": [
        "<a href=\"https://colab.research.google.com/github/asegura4488/MetodosComputacionalesI2025/blob/main/Semana9/DescensoGraidienteSL.ipynb\" target=\"_parent\"><img src=\"https://colab.research.google.com/assets/colab-badge.svg\" alt=\"Open In Colab\"/></a>"
      ]
    },
    {
      "cell_type": "code",
      "execution_count": 25,
      "metadata": {
        "id": "EV6G7DWcooe0"
      },
      "outputs": [],
      "source": [
        "import numpy as np\n",
        "import matplotlib.pyplot as plt\n",
        "from IPython.display import clear_output\n",
        "import time"
      ]
    },
    {
      "cell_type": "code",
      "source": [
        "\n",
        "def Plotter(e):\n",
        "\n",
        "  fig = plt.figure(figsize=(6,3))\n",
        "  ax = fig.add_subplot(121)\n",
        "  ax1 = fig.add_subplot(122)\n",
        "\n",
        "  ax.set_title('Epoch: {:.0f}'.format(e),fontsize=10)\n",
        "\n",
        "  return fig,ax,ax1"
      ],
      "metadata": {
        "id": "U5c8vgMapLfZ"
      },
      "execution_count": 26,
      "outputs": []
    },
    {
      "cell_type": "code",
      "source": [
        "# Definamos el sistema usando una lista\n",
        "G = (lambda x,y,z: 3*x - np.cos(y*z) - 1.5, \\\n",
        "     lambda x,y,z: 4*x**2 - 625*y**2 + 2*y -1, \\\n",
        "     lambda x,y,z: np.exp(-x*y) + 20*z + 9.471975)"
      ],
      "metadata": {
        "id": "OJJpSwLr5i61"
      },
      "execution_count": 27,
      "outputs": []
    },
    {
      "cell_type": "code",
      "source": [
        "G1=(lambda x,y,z: 3*x - y - z - 1., \\\n",
        "    lambda x,y,z: -x + 3*y + z - 3., \\\n",
        "    lambda x,y,z: 2*x + y + 4*z - 7.)"
      ],
      "metadata": {
        "id": "SF6PbzwMpVXH"
      },
      "execution_count": 28,
      "outputs": []
    },
    {
      "cell_type": "code",
      "source": [
        "k1 = 10\n",
        "k2 = 3\n",
        "F = 5\n",
        "G2  = (lambda x,y: k1*(x+y)+2*k2*(x+y)**3 - F , \\\n",
        "       lambda x,y: k1*(x+y)+2*k2*(x+y)**3)"
      ],
      "metadata": {
        "id": "KPtnbMHYPpAZ"
      },
      "execution_count": 50,
      "outputs": []
    },
    {
      "cell_type": "code",
      "source": [
        "def GetF(G,r):\n",
        "\n",
        "  n = r.shape[0]\n",
        "  v = np.zeros(n)\n",
        "\n",
        "  for i in range(n):\n",
        "    v[i] = G[i](*r)\n",
        "\n",
        "  return v"
      ],
      "metadata": {
        "id": "Lp6j7E-ipbyG"
      },
      "execution_count": 51,
      "outputs": []
    },
    {
      "cell_type": "code",
      "source": [
        "GetF(G1,np.array([0.,10.,0.]))"
      ],
      "metadata": {
        "colab": {
          "base_uri": "https://localhost:8080/"
        },
        "id": "QmIBWi4kFOJ8",
        "outputId": "31fd5cac-8968-43fa-a231-702323b21701"
      },
      "execution_count": 52,
      "outputs": [
        {
          "output_type": "execute_result",
          "data": {
            "text/plain": [
              "array([-11.,  27.,   3.])"
            ]
          },
          "metadata": {},
          "execution_count": 52
        }
      ]
    },
    {
      "cell_type": "code",
      "source": [
        "def Metric(G,r):\n",
        "  return 0.5*np.linalg.norm(GetF(G,r))"
      ],
      "metadata": {
        "id": "wQqmijvSFh2C"
      },
      "execution_count": 53,
      "outputs": []
    },
    {
      "cell_type": "code",
      "source": [
        "Metric(G1,np.array([0.,5.,3.]))"
      ],
      "metadata": {
        "colab": {
          "base_uri": "https://localhost:8080/"
        },
        "id": "jb1FvNXvFntK",
        "outputId": "330ca971-7460-4891-d45d-a0ae3f5b49a4"
      },
      "execution_count": 54,
      "outputs": [
        {
          "output_type": "execute_result",
          "data": {
            "text/plain": [
              "np.float64(10.074720839804943)"
            ]
          },
          "metadata": {},
          "execution_count": 54
        }
      ]
    },
    {
      "cell_type": "code",
      "source": [
        "def GetJacobian(f,r,h=1e-3):\n",
        "\n",
        "  n = r.shape[0]\n",
        "\n",
        "  J = np.zeros((n,n))\n",
        "\n",
        "  for i in range(n):\n",
        "    for j in range(n):\n",
        "\n",
        "      rf = r.copy()\n",
        "      rb = r.copy()\n",
        "\n",
        "      rf[j] = rf[j] + h\n",
        "      rb[j] = rb[j] - h\n",
        "\n",
        "      J[i,j] = (f[i](*rf) - f[i](*rb))/(2*h)\n",
        "\n",
        "  return J"
      ],
      "metadata": {
        "id": "7xJZy6t9qRKw"
      },
      "execution_count": 55,
      "outputs": []
    },
    {
      "cell_type": "code",
      "source": [
        "J = GetJacobian(G1,np.array([0.,0.,1.]))\n",
        "J"
      ],
      "metadata": {
        "colab": {
          "base_uri": "https://localhost:8080/"
        },
        "id": "ILk4mS0-4evt",
        "outputId": "c66fb38b-8f56-476d-ff3c-86691f785b95"
      },
      "execution_count": 56,
      "outputs": [
        {
          "output_type": "execute_result",
          "data": {
            "text/plain": [
              "array([[ 3., -1., -1.],\n",
              "       [-1.,  3.,  1.],\n",
              "       [ 2.,  1.,  4.]])"
            ]
          },
          "metadata": {},
          "execution_count": 56
        }
      ]
    },
    {
      "cell_type": "code",
      "source": [
        "def Minimizer(G,r,lr=1e-4,epochs=int(1e4),error=1e-3):\n",
        "\n",
        "  metric = 1\n",
        "  it = 0\n",
        "\n",
        "  M = np.array([])\n",
        "  history = np.array([r])\n",
        "\n",
        "  while metric > error and it < epochs:\n",
        "\n",
        "    M = np.append(M,Metric(G,r))\n",
        "\n",
        "    J = GetJacobian(G,r)\n",
        "    Vector = GetF(G,r)\n",
        "\n",
        "    # Algoritmo\n",
        "    r = r - lr*np.dot(J.T,Vector)\n",
        "\n",
        "    history = np.vstack((history,r))\n",
        "\n",
        "    metric = Metric(G,r)\n",
        "\n",
        "    if it % 100 == 0:\n",
        "      clear_output(wait=True)\n",
        "      _,ax,ax1 = Plotter(it)\n",
        "      ax.plot(history[:it])\n",
        "      ax1.plot(M[:it],color='k',label='Metric {:.3f}'.format(M[-1]))\n",
        "      ax1.legend()\n",
        "\n",
        "      plt.show()\n",
        "\n",
        "      time.sleep(0.1)\n",
        "\n",
        "    it += 1\n",
        "\n",
        "  return r"
      ],
      "metadata": {
        "id": "K_M2FUde4g1s"
      },
      "execution_count": 57,
      "outputs": []
    },
    {
      "cell_type": "code",
      "source": [
        "xsol = Minimizer(G2,np.array([0.,0.]))"
      ],
      "metadata": {
        "colab": {
          "base_uri": "https://localhost:8080/",
          "height": 311
        },
        "id": "ydzm1xAY7yxR",
        "outputId": "494b6e19-70f8-4928-ee58-6e9cef6edbd8"
      },
      "execution_count": 58,
      "outputs": [
        {
          "output_type": "display_data",
          "data": {
            "text/plain": [
              "<Figure size 600x300 with 2 Axes>"
            ],
            "image/png": "[encoded data removed]"
          },
          "metadata": {}
        }
      ]
    },
    {
      "cell_type": "code",
      "source": [
        "xsol"
      ],
      "metadata": {
        "colab": {
          "base_uri": "https://localhost:8080/"
        },
        "id": "Lg7Fp6w6LFPC",
        "outputId": "496e3127-c3e0-4abf-f0d0-9ae278a712d4"
      },
      "execution_count": 59,
      "outputs": [
        {
          "output_type": "execute_result",
          "data": {
            "text/plain": [
              "array([0.12077222, 0.12077222])"
            ]
          },
          "metadata": {},
          "execution_count": 59
        }
      ]
    },
    {
      "cell_type": "code",
      "source": [
        "GetF(G2,xsol)"
      ],
      "metadata": {
        "colab": {
          "base_uri": "https://localhost:8080/"
        },
        "id": "onduqBXk8AzI",
        "outputId": "989c7426-83fe-412b-eb8d-c4abe232ab25"
      },
      "execution_count": 61,
      "outputs": [
        {
          "output_type": "execute_result",
          "data": {
            "text/plain": [
              "array([-2.5,  2.5])"
            ]
          },
          "metadata": {},
          "execution_count": 61
        }
      ]
    },
    {
      "cell_type": "code",
      "source": [],
      "metadata": {
        "id": "weKImKGL8VkJ"
      },
      "execution_count": 35,
      "outputs": []
    },
    {
      "cell_type": "markdown",
      "source": [],
      "metadata": {
        "id": "rdZSikcx8-HI"
      }
    }
  ]
}