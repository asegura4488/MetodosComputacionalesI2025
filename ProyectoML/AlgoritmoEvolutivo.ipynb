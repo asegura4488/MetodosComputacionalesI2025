{
  "nbformat": 4,
  "nbformat_minor": 0,
  "metadata": {
    "colab": {
      "provenance": [],
      "authorship_tag": "ABX9TyNlPoBrCqLJjEqSWZ0PGK/o",
      "include_colab_link": true
    },
    "kernelspec": {
      "name": "python3",
      "display_name": "Python 3"
    },
    "language_info": {
      "name": "python"
    }
  },
  "cells": [
    {
      "cell_type": "markdown",
      "metadata": {
        "id": "view-in-github",
        "colab_type": "text"
      },
      "source": [
        "<a href=\"https://colab.research.google.com/github/asegura4488/MetodosComputacionalesI2025/blob/main/ProyectoML/AlgoritmoEvolutivo.ipynb\" target=\"_parent\"><img src=\"https://colab.research.google.com/assets/colab-badge.svg\" alt=\"Open In Colab\"/></a>"
      ]
    },
    {
      "cell_type": "code",
      "execution_count": 96,
      "metadata": {
        "id": "koZImT0I3j9E"
      },
      "outputs": [],
      "source": [
        "import numpy as np\n",
        "import matplotlib.pyplot as plt\n",
        "from IPython.display import clear_output\n",
        "import time"
      ]
    },
    {
      "cell_type": "code",
      "source": [
        "def Plotter(e):\n",
        "\n",
        "  fig = plt.figure(figsize=(8,8))\n",
        "  ax = fig.add_subplot(221)\n",
        "  ax1 = fig.add_subplot(222)\n",
        "  ax2 = fig.add_subplot(223)\n",
        "  ax.set_title('Epoch: {:.0f}'.format(e),fontsize=10)\n",
        "\n",
        "  return ax,ax1,ax2"
      ],
      "metadata": {
        "id": "6RN0bAxRwSY6"
      },
      "execution_count": 97,
      "outputs": []
    },
    {
      "cell_type": "code",
      "source": [
        "class Robot:\n",
        "\n",
        "    # Definamos el constructor de clase\n",
        "    def __init__(self, f, rate, Id = 0):\n",
        "\n",
        "      # Inicializar atributos\n",
        "      self.Id = Id\n",
        "      self.f = f\n",
        "      self.rate = rate\n",
        "\n",
        "      # Necesitamos ubicar al robot\n",
        "      self.r = np.random.uniform(-10,10, size=1)\n",
        "      # Calcular el Fitness original\n",
        "      self.Fitness = self.f(self.r)\n",
        "\n",
        "    # Metodo de clase\n",
        "    def Mutate(self):\n",
        "      self.r += np.random.normal(loc=0,scale=self.rate)\n",
        "\n",
        "    # Setter de clase\n",
        "    def SetFitness(self):\n",
        "      self.Fitness = self.f(self.r)\n",
        "\n",
        "    # Getter de clase\n",
        "    def GetFitness(self):\n",
        "      return self.Fitness\n",
        "\n",
        "    def __repr__(self):\n",
        "      return f\"Robot {self.Id}\""
      ],
      "metadata": {
        "id": "uKltWKJZ3wZo"
      },
      "execution_count": 137,
      "outputs": []
    },
    {
      "cell_type": "code",
      "source": [
        "f = lambda x: x**2 + 10*np.sin(x)"
      ],
      "metadata": {
        "id": "X-Ta1u464vH_"
      },
      "execution_count": 138,
      "outputs": []
    },
    {
      "cell_type": "code",
      "source": [
        "rate = 0.2"
      ],
      "metadata": {
        "id": "8xGXDP2ju4hH"
      },
      "execution_count": 139,
      "outputs": []
    },
    {
      "cell_type": "code",
      "source": [
        "def GetRobots(N=10):\n",
        "\n",
        "  Robots = []\n",
        "  for i in range(N):\n",
        "    r = Robot(f,rate,Id=i)\n",
        "    Robots.append(r)\n",
        "\n",
        "  return Robots"
      ],
      "metadata": {
        "id": "QpNHwJNZ6G3A"
      },
      "execution_count": 140,
      "outputs": []
    },
    {
      "cell_type": "code",
      "source": [
        "Robots = GetRobots(20)"
      ],
      "metadata": {
        "id": "74Sef75Z8USF"
      },
      "execution_count": 141,
      "outputs": []
    },
    {
      "cell_type": "code",
      "source": [
        "def Genetic(Robots, epochs=100, Plot=True):\n",
        "\n",
        "  #t = np.linspace(-5,5,50)\n",
        "\n",
        "  VVar = np.array([])\n",
        "\n",
        "  for e in range(epochs):\n",
        "\n",
        "    clear_output(wait=True)\n",
        "\n",
        "    # Zona de Cambiar\n",
        "    for i, p in enumerate(Robots):\n",
        "      p.Mutate()\n",
        "      p.SetFitness()\n",
        "\n",
        "    # Zona de Ordenar\n",
        "\n",
        "\n",
        "    # Extraemos la aptitud\n",
        "    Fitness = np.array([ p.GetFitness() for i, p in enumerate(Robots) ])\n",
        "    Var = np.array( [ (i - np.mean(Fitness))**2 for i in Fitness ] )\n",
        "    VVar = np.append(VVar,np.sum(Var))\n",
        "    #print(Fitness)\n",
        "    #print(np.mean(Fitness))\n",
        "    #print(np.sum(Var))\n",
        "\n",
        "    # Zona de pintar\n",
        "    if Plot:\n",
        "      ax,ax1,ax2 = Plotter(e)\n",
        "      for i, p in enumerate(Robots):\n",
        "        ax.scatter(p.r,Robots[i].f(p.r),color='r')\n",
        "        ax1.plot(Fitness,'.-',color='k')\n",
        "        ax1.axhline(y=np.mean(Fitness),color='r')\n",
        "        ax2.plot(VVar,'.-',color='k')\n",
        "\n",
        "    plt.show()\n",
        "    time.sleep(0.001)\n",
        "\n",
        "  return Robots"
      ],
      "metadata": {
        "id": "jrEBKWQW_TVq"
      },
      "execution_count": 158,
      "outputs": []
    },
    {
      "cell_type": "code",
      "source": [
        "Robots = GetRobots(5)\n",
        "Robots = Genetic(Robots, Plot=True)"
      ],
      "metadata": {
        "id": "llUiUaux_Xmg",
        "colab": {
          "base_uri": "https://localhost:8080/",
          "height": 696
        },
        "outputId": "09930493-0644-47ae-830d-d321f1537900"
      },
      "execution_count": 159,
      "outputs": [
        {
          "output_type": "display_data",
          "data": {
            "text/plain": [
              "<Figure size 800x800 with 3 Axes>"
            ],
            "image/png": "[encoded data removed]"
          },
          "metadata": {}
        }
      ]
    },
    {
      "cell_type": "code",
      "source": [],
      "metadata": {
        "id": "LDovDk7X_Zz4"
      },
      "execution_count": 144,
      "outputs": []
    },
    {
      "cell_type": "code",
      "source": [],
      "metadata": {
        "id": "GPidPs6m8XGN"
      },
      "execution_count": 93,
      "outputs": []
    },
    {
      "cell_type": "code",
      "source": [],
      "metadata": {
        "id": "vDxa7Apy8Zpk"
      },
      "execution_count": 93,
      "outputs": []
    },
    {
      "cell_type": "code",
      "source": [],
      "metadata": {
        "id": "-KhY161v84Hk"
      },
      "execution_count": null,
      "outputs": []
    }
  ]
}