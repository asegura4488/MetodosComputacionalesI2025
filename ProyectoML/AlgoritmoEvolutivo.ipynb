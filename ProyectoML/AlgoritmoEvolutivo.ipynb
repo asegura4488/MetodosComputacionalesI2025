{
  "nbformat": 4,
  "nbformat_minor": 0,
  "metadata": {
    "colab": {
      "provenance": [],
      "authorship_tag": "ABX9TyMQKqZ4QM33yV2+ydsRy12v",
      "include_colab_link": true
    },
    "kernelspec": {
      "name": "python3",
      "display_name": "Python 3"
    },
    "language_info": {
      "name": "python"
    }
  },
  "cells": [
    {
      "cell_type": "markdown",
      "metadata": {
        "id": "view-in-github",
        "colab_type": "text"
      },
      "source": [
        "<a href=\"https://colab.research.google.com/github/asegura4488/MetodosComputacionalesI2025/blob/main/ProyectoML/AlgoritmoEvolutivo.ipynb\" target=\"_parent\"><img src=\"https://colab.research.google.com/assets/colab-badge.svg\" alt=\"Open In Colab\"/></a>"
      ]
    },
    {
      "cell_type": "code",
      "execution_count": 1,
      "metadata": {
        "id": "koZImT0I3j9E"
      },
      "outputs": [],
      "source": [
        "import numpy as np\n",
        "import matplotlib.pyplot as plt\n",
        "from IPython.display import clear_output\n",
        "import time"
      ]
    },
    {
      "cell_type": "code",
      "source": [
        "def Plotter(e):\n",
        "\n",
        "  fig = plt.figure(figsize=(8,8))\n",
        "  ax = fig.add_subplot(221)\n",
        "  ax1 = fig.add_subplot(222)\n",
        "  ax2 = fig.add_subplot(223)\n",
        "  ax.set_title('Epoch: {:.0f}'.format(e),fontsize=10)\n",
        "\n",
        "  return ax,ax1,ax2"
      ],
      "metadata": {
        "id": "6RN0bAxRwSY6"
      },
      "execution_count": 2,
      "outputs": []
    },
    {
      "cell_type": "code",
      "source": [
        "class Robot:\n",
        "\n",
        "    # Definamos el constructor de clase\n",
        "    def __init__(self, f, rate, Id = 0):\n",
        "\n",
        "      # Inicializar atributos\n",
        "      self.Id = Id\n",
        "      self.f = f\n",
        "      self.rate = rate\n",
        "\n",
        "      # Necesitamos ubicar al robot\n",
        "      self.r = np.random.uniform(-10,10, size=1)\n",
        "      # Calcular el Fitness original\n",
        "      self.Fitness = self.f(self.r)\n",
        "\n",
        "    # Metodo de clase\n",
        "    def Mutate(self):\n",
        "      self.r += np.random.normal(loc=0,scale=self.rate)\n",
        "\n",
        "    # Setter de clase\n",
        "    def SetFitness(self):\n",
        "      self.Fitness = self.f(self.r)\n",
        "\n",
        "    # Getter de clase\n",
        "    def GetFitness(self):\n",
        "      return self.Fitness\n",
        "\n",
        "    def __repr__(self):\n",
        "      return f\"Robot {self.Id}\""
      ],
      "metadata": {
        "id": "uKltWKJZ3wZo"
      },
      "execution_count": 3,
      "outputs": []
    },
    {
      "cell_type": "code",
      "source": [
        "# funcion a minimizar\n",
        "f = lambda x: x**2 + 10*np.sin(x)"
      ],
      "metadata": {
        "id": "X-Ta1u464vH_"
      },
      "execution_count": 5,
      "outputs": []
    },
    {
      "cell_type": "code",
      "source": [
        "# Tasa de mutacion\n",
        "rate = 0.2"
      ],
      "metadata": {
        "id": "8xGXDP2ju4hH"
      },
      "execution_count": 6,
      "outputs": []
    },
    {
      "cell_type": "code",
      "source": [
        "def GetRobots(N=10):\n",
        "\n",
        "  Robots = []\n",
        "  for i in range(N):\n",
        "    r = Robot(f,rate,Id=i)\n",
        "    Robots.append(r)\n",
        "\n",
        "  return Robots"
      ],
      "metadata": {
        "id": "QpNHwJNZ6G3A"
      },
      "execution_count": 7,
      "outputs": []
    },
    {
      "cell_type": "code",
      "source": [
        "Robots = GetRobots(20)"
      ],
      "metadata": {
        "id": "74Sef75Z8USF"
      },
      "execution_count": 8,
      "outputs": []
    },
    {
      "cell_type": "code",
      "source": [
        "def Genetic(Robots, epochs=100, Plot=True):\n",
        "\n",
        "  #t = np.linspace(-5,5,50)\n",
        "\n",
        "  VVar = np.array([])\n",
        "\n",
        "  for e in range(epochs):\n",
        "\n",
        "    clear_output(wait=True)\n",
        "\n",
        "    # Zona de Cambiar\n",
        "    for i, p in enumerate(Robots):\n",
        "      p.Mutate()\n",
        "      p.SetFitness()\n",
        "\n",
        "    # Zona de Ordenar para seleccion natural\n",
        "    score = [(p.Fitness,p) for p in Robots]\n",
        "    score = sorted( score, key=lambda x: x[0], reverse=True )\n",
        "    print(score)\n",
        "\n",
        "    # Extraemos la aptitud\n",
        "    Fitness = np.array([ p.GetFitness() for i, p in enumerate(Robots) ])\n",
        "    Var = np.array( [ (i - np.mean(Fitness))**2 for i in Fitness ] )\n",
        "    VVar = np.append(VVar,np.sum(Var))\n",
        "    print(Fitness)\n",
        "    #print(np.mean(Fitness))\n",
        "    #print(np.sum(Var))\n",
        "\n",
        "    # Zona de pintar\n",
        "    if Plot:\n",
        "      ax,ax1,ax2 = Plotter(e)\n",
        "      for i, p in enumerate(Robots):\n",
        "        ax.scatter(p.r,Robots[i].f(p.r),color='r')\n",
        "        ax1.plot(Fitness,'.-',color='k')\n",
        "        ax1.axhline(y=np.mean(Fitness),color='r')\n",
        "        ax2.plot(VVar,'.-',color='k')\n",
        "\n",
        "    plt.show()\n",
        "    time.sleep(1)\n",
        "\n",
        "  return Robots"
      ],
      "metadata": {
        "id": "jrEBKWQW_TVq"
      },
      "execution_count": 31,
      "outputs": []
    },
    {
      "cell_type": "code",
      "source": [
        "Robots = GetRobots(20)\n",
        "Robots = Genetic(Robots, Plot=False)"
      ],
      "metadata": {
        "id": "llUiUaux_Xmg",
        "colab": {
          "base_uri": "https://localhost:8080/",
          "height": 696
        },
        "outputId": "d1b694dd-57b8-4398-c6e3-25190f40c97a"
      },
      "execution_count": 32,
      "outputs": [
        {
          "output_type": "stream",
          "name": "stdout",
          "text": [
            "[(array([151.86659408]), Robot 2), (array([93.7186734]), Robot 6), (array([84.63739271]), Robot 10), (array([67.89160045]), Robot 18), (array([55.02059459]), Robot 8), (array([54.93935025]), Robot 15), (array([45.2005648]), Robot 3), (array([40.20063069]), Robot 17), (array([39.8234477]), Robot 11), (array([13.66913473]), Robot 14), (array([13.01347256]), Robot 16), (array([12.99933861]), Robot 9), (array([12.94645948]), Robot 4), (array([11.26524163]), Robot 12), (array([8.54456417]), Robot 0), (array([8.41536393]), Robot 7), (array([6.43808036]), Robot 13), (array([1.66161818]), Robot 19), (array([0.13183618]), Robot 5), (array([-6.04254414]), Robot 1)]\n",
            "[[ 8.54456417e+00]\n",
            " [-6.04254414e+00]\n",
            " [ 1.51866594e+02]\n",
            " [ 4.52005648e+01]\n",
            " [ 1.29464595e+01]\n",
            " [ 1.31836183e-01]\n",
            " [ 9.37186734e+01]\n",
            " [ 8.41536393e+00]\n",
            " [ 5.50205946e+01]\n",
            " [ 1.29993386e+01]\n",
            " [ 8.46373927e+01]\n",
            " [ 3.98234477e+01]\n",
            " [ 1.12652416e+01]\n",
            " [ 6.43808036e+00]\n",
            " [ 1.36691347e+01]\n",
            " [ 5.49393502e+01]\n",
            " [ 1.30134726e+01]\n",
            " [ 4.02006307e+01]\n",
            " [ 6.78916005e+01]\n",
            " [ 1.66161818e+00]]\n"
          ]
        },
        {
          "output_type": "error",
          "ename": "KeyboardInterrupt",
          "evalue": "",
          "traceback": [
            "\u001b[0;31m---------------------------------------------------------------------------\u001b[0m",
            "\u001b[0;31mKeyboardInterrupt\u001b[0m                         Traceback (most recent call last)",
            "\u001b[0;32m/tmp/ipython-input-3895043395.py\u001b[0m in \u001b[0;36m<cell line: 0>\u001b[0;34m()\u001b[0m\n\u001b[1;32m      1\u001b[0m \u001b[0mRobots\u001b[0m \u001b[0;34m=\u001b[0m \u001b[0mGetRobots\u001b[0m\u001b[0;34m(\u001b[0m\u001b[0;36m20\u001b[0m\u001b[0;34m)\u001b[0m\u001b[0;34m\u001b[0m\u001b[0;34m\u001b[0m\u001b[0m\n\u001b[0;32m----> 2\u001b[0;31m \u001b[0mRobots\u001b[0m \u001b[0;34m=\u001b[0m \u001b[0mGenetic\u001b[0m\u001b[0;34m(\u001b[0m\u001b[0mRobots\u001b[0m\u001b[0;34m,\u001b[0m \u001b[0mPlot\u001b[0m\u001b[0;34m=\u001b[0m\u001b[0;32mFalse\u001b[0m\u001b[0;34m)\u001b[0m\u001b[0;34m\u001b[0m\u001b[0;34m\u001b[0m\u001b[0m\n\u001b[0m",
            "\u001b[0;32m/tmp/ipython-input-3851018859.py\u001b[0m in \u001b[0;36mGenetic\u001b[0;34m(Robots, epochs, Plot)\u001b[0m\n\u001b[1;32m     37\u001b[0m \u001b[0;34m\u001b[0m\u001b[0m\n\u001b[1;32m     38\u001b[0m     \u001b[0mplt\u001b[0m\u001b[0;34m.\u001b[0m\u001b[0mshow\u001b[0m\u001b[0;34m(\u001b[0m\u001b[0;34m)\u001b[0m\u001b[0;34m\u001b[0m\u001b[0;34m\u001b[0m\u001b[0m\n\u001b[0;32m---> 39\u001b[0;31m     \u001b[0mtime\u001b[0m\u001b[0;34m.\u001b[0m\u001b[0msleep\u001b[0m\u001b[0;34m(\u001b[0m\u001b[0;36m1\u001b[0m\u001b[0;34m)\u001b[0m\u001b[0;34m\u001b[0m\u001b[0;34m\u001b[0m\u001b[0m\n\u001b[0m\u001b[1;32m     40\u001b[0m \u001b[0;34m\u001b[0m\u001b[0m\n\u001b[1;32m     41\u001b[0m   \u001b[0;32mreturn\u001b[0m \u001b[0mRobots\u001b[0m\u001b[0;34m\u001b[0m\u001b[0;34m\u001b[0m\u001b[0m\n",
            "\u001b[0;31mKeyboardInterrupt\u001b[0m: "
          ]
        }
      ]
    },
    {
      "cell_type": "code",
      "source": [],
      "metadata": {
        "id": "uEhiiXMh-L9u"
      },
      "execution_count": null,
      "outputs": []
    }
  ]
}