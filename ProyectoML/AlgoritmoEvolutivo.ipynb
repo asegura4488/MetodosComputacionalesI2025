{
  "nbformat": 4,
  "nbformat_minor": 0,
  "metadata": {
    "colab": {
      "provenance": [],
      "authorship_tag": "ABX9TyONDOCKgzTg2vdd6SoFXTAX",
      "include_colab_link": true
    },
    "kernelspec": {
      "name": "python3",
      "display_name": "Python 3"
    },
    "language_info": {
      "name": "python"
    }
  },
  "cells": [
    {
      "cell_type": "markdown",
      "metadata": {
        "id": "view-in-github",
        "colab_type": "text"
      },
      "source": [
        "<a href=\"https://colab.research.google.com/github/asegura4488/MetodosComputacionalesI2025/blob/main/ProyectoML/AlgoritmoEvolutivo.ipynb\" target=\"_parent\"><img src=\"https://colab.research.google.com/assets/colab-badge.svg\" alt=\"Open In Colab\"/></a>"
      ]
    },
    {
      "cell_type": "code",
      "execution_count": 98,
      "metadata": {
        "id": "koZImT0I3j9E"
      },
      "outputs": [],
      "source": [
        "import numpy as np\n",
        "import matplotlib.pyplot as plt\n",
        "from IPython.display import clear_output\n",
        "import time\n",
        "import copy"
      ]
    },
    {
      "cell_type": "code",
      "source": [
        "def Plotter(e):\n",
        "\n",
        "  fig = plt.figure(figsize=(10,5))\n",
        "  ax = fig.add_subplot(131)\n",
        "  ax1 = fig.add_subplot(132)\n",
        "  ax2 = fig.add_subplot(133)\n",
        "  ax.set_title('Epoch: {:.0f}'.format(e),fontsize=10)\n",
        "\n",
        "  return ax,ax1,ax2"
      ],
      "metadata": {
        "id": "6RN0bAxRwSY6"
      },
      "execution_count": 99,
      "outputs": []
    },
    {
      "cell_type": "code",
      "source": [
        "class Robot:\n",
        "\n",
        "    # Definamos el constructor de clase\n",
        "    def __init__(self, f, rate, Id = 0):\n",
        "\n",
        "      # Inicializar atributos\n",
        "      self.Id = Id\n",
        "      self.f = f\n",
        "      self.rate = rate\n",
        "\n",
        "      # Necesitamos ubicar al robot\n",
        "      self.r = np.random.uniform(-10,10)\n",
        "      # Calcular el Fitness original\n",
        "      self.Fitness = self.f(self.r)\n",
        "\n",
        "    # Setter de clase\n",
        "    def SetFitness(self):\n",
        "      self.Fitness = self.f(self.r)\n",
        "\n",
        "    # Getter de clase\n",
        "    def GetR(self):\n",
        "      return self.r\n",
        "\n",
        "    def GetFitness(self):\n",
        "      return self.Fitness\n",
        "\n",
        "    # Metodo de clase\n",
        "    def Mutate(self):\n",
        "      self.r += np.random.normal(loc=0,scale=self.rate)\n",
        "\n",
        "    def __repr__(self):\n",
        "      return f\"Robot {self.Id}\""
      ],
      "metadata": {
        "id": "uKltWKJZ3wZo"
      },
      "execution_count": 100,
      "outputs": []
    },
    {
      "cell_type": "code",
      "source": [
        "# funcion a minimizar\n",
        "#f = lambda x: x**2 + 10*np.sin(x)\n",
        "f = lambda x,a=1,k=9,B=3,q=0.6,sigma=0.7,x0=1: q*x**2 + a*np.sin(k*x) - B*np.exp(-(x-x0)**2/(2*sigma**2))"
      ],
      "metadata": {
        "id": "X-Ta1u464vH_"
      },
      "execution_count": 110,
      "outputs": []
    },
    {
      "cell_type": "code",
      "source": [
        "# Tasa de mutacion\n",
        "rate = 0.1"
      ],
      "metadata": {
        "id": "8xGXDP2ju4hH"
      },
      "execution_count": 102,
      "outputs": []
    },
    {
      "cell_type": "code",
      "source": [
        "def GetRobots(N=10):\n",
        "\n",
        "  Robots = []\n",
        "  for i in range(N):\n",
        "    r = Robot(f,rate,Id=i)\n",
        "    Robots.append(r)\n",
        "\n",
        "  return Robots"
      ],
      "metadata": {
        "id": "QpNHwJNZ6G3A"
      },
      "execution_count": 103,
      "outputs": []
    },
    {
      "cell_type": "code",
      "source": [
        "Robots = GetRobots(20)"
      ],
      "metadata": {
        "id": "74Sef75Z8USF"
      },
      "execution_count": 104,
      "outputs": []
    },
    {
      "cell_type": "code",
      "source": [
        "Robots[0].GetFitness()"
      ],
      "metadata": {
        "colab": {
          "base_uri": "https://localhost:8080/"
        },
        "id": "BdLIG1Whdiay",
        "outputId": "12665550-a685-49dd-b847-7bc779e028be"
      },
      "execution_count": 105,
      "outputs": [
        {
          "output_type": "execute_result",
          "data": {
            "text/plain": [
              "np.float64(34.55741105855916)"
            ]
          },
          "metadata": {},
          "execution_count": 105
        }
      ]
    },
    {
      "cell_type": "code",
      "source": [
        "Robots[0].GetR()"
      ],
      "metadata": {
        "colab": {
          "base_uri": "https://localhost:8080/"
        },
        "id": "giaRkfnbkuRz",
        "outputId": "d5a77b70-0cfc-4d78-c28e-072a2916a226"
      },
      "execution_count": 106,
      "outputs": [
        {
          "output_type": "execute_result",
          "data": {
            "text/plain": [
              "-7.481116543758968"
            ]
          },
          "metadata": {},
          "execution_count": 106
        }
      ]
    },
    {
      "cell_type": "code",
      "source": [
        "def Genetic(Robots, epochs=100, Plot=True):\n",
        "\n",
        "  VVar = np.array([])\n",
        "  Fitness_ = np.array([])\n",
        "\n",
        "  N = int(0.8*len(Robots)) # Porcentaje de bots a la siguiente generacion\n",
        "  t = np.linspace(-5,5,50)\n",
        "\n",
        "  for e in range(epochs):\n",
        "\n",
        "    clear_output(wait=True)\n",
        "    # Zona de mutación y ajustar aptitud\n",
        "    for i, p in enumerate(Robots):\n",
        "      p.Mutate()\n",
        "      p.SetFitness()\n",
        "\n",
        "    # Zona de Ordenar para seleccion natural\n",
        "    score = [(p.GetFitness(),p) for p in Robots]\n",
        "    score = sorted( score, key=lambda x: x[0], reverse=False )\n",
        "    #print(score)\n",
        "\n",
        "    Temp = [r[1] for i, r in enumerate(score) if i < N]\n",
        "\n",
        "    for i,r in enumerate(Robots):\n",
        "      j = i%N\n",
        "      Robots[i] = copy.deepcopy(Temp[j])\n",
        "\n",
        "\n",
        "    # Extraemos la aptitud\n",
        "    Fitness = np.array([ p.GetFitness() for i, p in enumerate(Robots) ])\n",
        "    # Valor medio\n",
        "    Fitness_ = np.append(Fitness_, np.mean(Fitness))\n",
        "\n",
        "    Posicion = [ p.GetR() for i, p in enumerate(Robots)]\n",
        "\n",
        "    #Var = np.array( [ (i - np.mean(Fitness))**2 for i in Fitness ] )\n",
        "    #VVar = np.append(VVar,np.sum(Var))\n",
        "    #print(Fitness)\n",
        "    #print(np.mean(Fitness))\n",
        "    #print(np.sum(Var))\n",
        "\n",
        "\n",
        "    #print(score)\n",
        "    # Zona de pintar\n",
        "    if Plot and e%10 == 0:\n",
        "      ax,ax1,ax2 = Plotter(e)\n",
        "      ax.plot(t,f(t),color='k')\n",
        "      # Pintamos los robots\n",
        "      for i, p in enumerate(Robots):\n",
        "        ax.scatter(p.r,p.f(p.r))\n",
        "\n",
        "      ax1.plot(Fitness_,color='k',label='Fitness {:.3f}'.format(np.mean(Fitness_)))\n",
        "      ax1.legend()\n",
        "      ax2.hist(Posicion,bins=20,density=True,label='Minimo {:.3f}'.format(np.mean(Posicion)))\n",
        "      ax2.set_xlim(t[0],t[-1])\n",
        "      ax2.legend()\n",
        "      #ax2.plot(VVar,'.-',color='k')\n",
        "\n",
        "      plt.show()\n",
        "\n",
        "      time.sleep(0.02)\n",
        "\n",
        "  return Robots"
      ],
      "metadata": {
        "id": "jrEBKWQW_TVq"
      },
      "execution_count": 107,
      "outputs": []
    },
    {
      "cell_type": "code",
      "source": [
        "Robots = GetRobots(100)\n",
        "Robots = Genetic(Robots, Plot=True)"
      ],
      "metadata": {
        "id": "llUiUaux_Xmg",
        "colab": {
          "base_uri": "https://localhost:8080/",
          "height": 465
        },
        "outputId": "fa7ef213-5afa-4424-f69d-041c5c28b935"
      },
      "execution_count": 108,
      "outputs": [
        {
          "output_type": "display_data",
          "data": {
            "text/plain": [
              "<Figure size 1000x500 with 3 Axes>"
            ],
            "image/png": "[encoded data removed]"
          },
          "metadata": {}
        }
      ]
    },
    {
      "cell_type": "code",
      "source": [
        "ll = []\n",
        "for i, p in enumerate(Robots):\n",
        "  ll.append(p.GetR())\n",
        "_ = plt.hist(ll,bins=30,density=True)"
      ],
      "metadata": {
        "id": "uEhiiXMh-L9u",
        "colab": {
          "base_uri": "https://localhost:8080/",
          "height": 430
        },
        "outputId": "5af4814b-0809-4142-e046-2b9bc57b8e6c"
      },
      "execution_count": 113,
      "outputs": [
        {
          "output_type": "display_data",
          "data": {
            "text/plain": [
              "<Figure size 640x480 with 1 Axes>"
            ],
            "image/png": "[encoded data removed]"
          },
          "metadata": {}
        }
      ]
    },
    {
      "cell_type": "code",
      "source": [
        "np.mean(ll)"
      ],
      "metadata": {
        "colab": {
          "base_uri": "https://localhost:8080/"
        },
        "id": "Q3EwcZcfhG5O",
        "outputId": "60b94334-ec4a-4bb3-c83d-5c5b0fefceed"
      },
      "execution_count": 114,
      "outputs": [
        {
          "output_type": "execute_result",
          "data": {
            "text/plain": [
              "np.float64(0.5552354653572374)"
            ]
          },
          "metadata": {},
          "execution_count": 114
        }
      ]
    },
    {
      "cell_type": "code",
      "source": [],
      "metadata": {
        "id": "afHFa-5Wmz_j"
      },
      "execution_count": null,
      "outputs": []
    }
  ]
}