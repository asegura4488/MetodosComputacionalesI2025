{
 "cells": [
  {
   "cell_type": "code",
   "execution_count": 1,
   "id": "b5c3fc83-1f6c-400c-9754-a32d3f3c3870",
   "metadata": {},
   "outputs": [
    {
     "name": "stdout",
     "output_type": "stream",
     "text": [
      "[0.0, 0.7454072589480277, 1.2931296378793684, 1.5944756694307232, 1.8062435515489421, 1.9705132439062034, 2.1051101734106443, 2.2193277348614515, 2.3186484535808582, 2.40658663840291, 2.4855341131377173, 2.5571944165337674, 2.6228249566041004, 2.6833809734658964, 2.7396056020953834, 2.792088612778438, 2.8413060770363625, 2.887647953063894, 2.9314377607706947, 2.9729469260586763, 3.0124054417317625, 3.050009926718075, 3.085929811475762, 3.1203121501256628, 3.1532854102989094, 3.18496249116088, 3.2154431511936337, 3.2448159792938838, 3.273160008718829, 3.300546048958694, 3.3270377928003456]\n"
     ]
    }
   ],
   "source": [
    "import numpy as  np\n",
    "import scipy.optimize as opt\n",
    "\n",
    "# Definir la función cos(xe^x)\n",
    "def f(x):\n",
    "    return np.cos(x * np.exp(x))\n",
    "\n",
    "# Intervalos iniciales de búsqueda\n",
    "# Vamos a generar varios intervalos donde buscar los ceros.\n",
    "# Sabemos que cos(x) oscila, por lo que podemos usar una búsqueda lineal amplia.\n",
    "intervalos = np.linspace(0, 10, 1000)  # Generar un rango amplio de valores para buscar ceros.\n",
    "\n",
    "# Lista para almacenar los ceros\n",
    "ceros = [0.]\n",
    "\n",
    "# Buscar los ceros usando el método de bisección entre intervalos consecutivos\n",
    "for i in range(len(intervalos) - 1):\n",
    "    try:\n",
    "        cero = opt.brentq(f, intervalos[i], intervalos[i+1])  # Encontrar cero en el intervalo\n",
    "        if not any(np.isclose(cero, c) for c in ceros):  # Evitar duplicados\n",
    "            ceros.append(cero)\n",
    "    except ValueError:\n",
    "        # Si no hay cambio de signo en el intervalo, no se encuentra ningún cero\n",
    "        pass\n",
    "\n",
    "# Imprimir los primeros 30 ceros encontrados\n",
    "print(ceros[:31])"
   ]
  },
  {
   "cell_type": "code",
   "execution_count": 2,
   "id": "d5fa9767-4333-4fdd-ad8b-44bc5745f662",
   "metadata": {},
   "outputs": [
    {
     "data": {
      "text/plain": [
       "array([0.        , 0.74540726, 1.29312964, 1.59447567, 1.80624355,\n",
       "       1.97051324, 2.10511017, 2.21932773, 2.31864845, 2.40658664,\n",
       "       2.48553411, 2.55719442, 2.62282496, 2.68338097, 2.7396056 ,\n",
       "       2.79208861, 2.84130608, 2.88764795, 2.93143776, 2.97294693,\n",
       "       3.01240544, 3.05000993, 3.08592981, 3.12031215, 3.15328541,\n",
       "       3.18496249, 3.21544315, 3.24481598, 3.27316001, 3.30054605,\n",
       "       3.32703779])"
      ]
     },
     "execution_count": 2,
     "metadata": {},
     "output_type": "execute_result"
    }
   ],
   "source": [
    "ceros = np.array(ceros[:31])\n",
    "ceros"
   ]
  },
  {
   "cell_type": "code",
   "execution_count": 3,
   "id": "eab7d59e-eb48-4373-8e04-af1c4c1d6906",
   "metadata": {},
   "outputs": [
    {
     "name": "stdout",
     "output_type": "stream",
     "text": [
      "Resultado de la integración: 0.5494499247042615\n"
     ]
    }
   ],
   "source": [
    "def cuadratura_adaptativa(f, a, b, tol):\n",
    "    # Calcula la integral en el intervalo [a, b] con dos métodos\n",
    "    def integrar(f, a, b):\n",
    "        # Regla de Simpson\n",
    "        c = (a + b) / 2.0\n",
    "        return (b - a) / 6.0 * (f(a) + 4.0 * f(c) + f(b))\n",
    "    \n",
    "    # Método recursivo para la cuadratura adaptativa\n",
    "    def adaptativa(f, a, b, tol, integral_previa):\n",
    "        c = (a + b) / 2.0\n",
    "        integral_izquierda = integrar(f, a, c)\n",
    "        integral_derecha = integrar(f, c, b)\n",
    "        integral_actual = integral_izquierda + integral_derecha\n",
    "        \n",
    "        # Estimación del error\n",
    "        error = abs(integral_actual - integral_previa) / 15.0\n",
    "\n",
    "        #print(error)\n",
    "        \n",
    "        if error < tol:\n",
    "            return integral_actual\n",
    "        else:\n",
    "            # Refinar dividiendo el intervalo en dos\n",
    "            izquierda = adaptativa(f, a, c, tol / 2.0, integral_izquierda)\n",
    "            derecha = adaptativa(f, c, b, tol / 2.0, integral_derecha)\n",
    "            return izquierda + derecha\n",
    "    \n",
    "    # Calcular la integral inicial\n",
    "    integral_inicial = integrar(f, a, b)\n",
    "    \n",
    "    # Llamar a la función recursiva\n",
    "    return adaptativa(f, a, b, tol, integral_inicial)\n",
    "\n",
    "# Ejemplo de uso\n",
    "f = lambda x: np.cos( x*np.exp(x) )  # Función a integrar\n",
    "resultado = cuadratura_adaptativa(f, 0, 0.7454072589, 1e-8)\n",
    "print(\"Resultado de la integración:\", resultado)"
   ]
  },
  {
   "cell_type": "code",
   "execution_count": 4,
   "id": "c09a03c8-3103-4609-bee3-d066b098afe8",
   "metadata": {},
   "outputs": [
    {
     "data": {
      "text/plain": [
       "-0.3400724368068573"
      ]
     },
     "execution_count": 4,
     "metadata": {},
     "output_type": "execute_result"
    }
   ],
   "source": [
    "resultado2 = cuadratura_adaptativa(f, 0.7454072589,1.293129638, 1e-10)\n",
    "resultado2"
   ]
  },
  {
   "cell_type": "code",
   "execution_count": 5,
   "id": "246de4bb-2373-4a6b-ad3e-22ca48036500",
   "metadata": {},
   "outputs": [
    {
     "data": {
      "text/plain": [
       "0.19055587941252333"
      ]
     },
     "execution_count": 5,
     "metadata": {},
     "output_type": "execute_result"
    }
   ],
   "source": [
    "resultado3 = cuadratura_adaptativa(f,1.293129638,1.594475669, 1e-10)\n",
    "resultado3"
   ]
  },
  {
   "cell_type": "code",
   "execution_count": 6,
   "id": "654e2910-b5fe-408a-a03d-d68f4c5b7fa1",
   "metadata": {},
   "outputs": [],
   "source": [
    "Sn = np.array([])\n",
    "suma_ = 0.\n",
    "\n",
    "for i in range(len(ceros)-1):\n",
    "    suma_ += cuadratura_adaptativa(f, ceros[i], ceros[i+1], 1e-13)\n",
    "    Sn = np.append(Sn, suma_)"
   ]
  },
  {
   "cell_type": "code",
   "execution_count": 7,
   "id": "59ac552f-3448-484b-84be-f1f0d4002ade",
   "metadata": {},
   "outputs": [
    {
     "data": {
      "text/plain": [
       "array([0.54944992, 0.20937749, 0.39993337, 0.26553955, 0.36992721,\n",
       "       0.2843417 , 0.35699409, 0.29380384, 0.34976014, 0.29951984,\n",
       "       0.34512598, 0.30335511, 0.34189783, 0.30611082, 0.33951713,\n",
       "       0.30818876, 0.33768723, 0.30981286, 0.3362358 , 0.31111797,\n",
       "       0.33505579, 0.31219016, 0.33407717, 0.31308703, 0.33325215,\n",
       "       0.31384857, 0.33254699, 0.31450343, 0.3319372 , 0.31507269])"
      ]
     },
     "execution_count": 7,
     "metadata": {},
     "output_type": "execute_result"
    }
   ],
   "source": [
    "Sn"
   ]
  },
  {
   "cell_type": "code",
   "execution_count": 8,
   "id": "824fbe27-9f5e-4723-a716-aab0dff003b6",
   "metadata": {},
   "outputs": [
    {
     "data": {
      "text/plain": [
       "array([[0.54944992, 0.        , 0.        , 0.        , 0.        ,\n",
       "        0.        , 0.        , 0.        , 0.        , 0.        ,\n",
       "        0.        , 0.        , 0.        , 0.        , 0.        ,\n",
       "        0.        , 0.        , 0.        , 0.        , 0.        ],\n",
       "       [0.20937749, 0.        , 0.        , 0.        , 0.        ,\n",
       "        0.        , 0.        , 0.        , 0.        , 0.        ,\n",
       "        0.        , 0.        , 0.        , 0.        , 0.        ,\n",
       "        0.        , 0.        , 0.        , 0.        , 0.        ],\n",
       "       [0.39993337, 0.        , 0.        , 0.        , 0.        ,\n",
       "        0.        , 0.        , 0.        , 0.        , 0.        ,\n",
       "        0.        , 0.        , 0.        , 0.        , 0.        ,\n",
       "        0.        , 0.        , 0.        , 0.        , 0.        ],\n",
       "       [0.26553955, 0.        , 0.        , 0.        , 0.        ,\n",
       "        0.        , 0.        , 0.        , 0.        , 0.        ,\n",
       "        0.        , 0.        , 0.        , 0.        , 0.        ,\n",
       "        0.        , 0.        , 0.        , 0.        , 0.        ],\n",
       "       [0.36992721, 0.        , 0.        , 0.        , 0.        ,\n",
       "        0.        , 0.        , 0.        , 0.        , 0.        ,\n",
       "        0.        , 0.        , 0.        , 0.        , 0.        ,\n",
       "        0.        , 0.        , 0.        , 0.        , 0.        ],\n",
       "       [0.2843417 , 0.        , 0.        , 0.        , 0.        ,\n",
       "        0.        , 0.        , 0.        , 0.        , 0.        ,\n",
       "        0.        , 0.        , 0.        , 0.        , 0.        ,\n",
       "        0.        , 0.        , 0.        , 0.        , 0.        ],\n",
       "       [0.35699409, 0.        , 0.        , 0.        , 0.        ,\n",
       "        0.        , 0.        , 0.        , 0.        , 0.        ,\n",
       "        0.        , 0.        , 0.        , 0.        , 0.        ,\n",
       "        0.        , 0.        , 0.        , 0.        , 0.        ],\n",
       "       [0.29380384, 0.        , 0.        , 0.        , 0.        ,\n",
       "        0.        , 0.        , 0.        , 0.        , 0.        ,\n",
       "        0.        , 0.        , 0.        , 0.        , 0.        ,\n",
       "        0.        , 0.        , 0.        , 0.        , 0.        ],\n",
       "       [0.34976014, 0.        , 0.        , 0.        , 0.        ,\n",
       "        0.        , 0.        , 0.        , 0.        , 0.        ,\n",
       "        0.        , 0.        , 0.        , 0.        , 0.        ,\n",
       "        0.        , 0.        , 0.        , 0.        , 0.        ],\n",
       "       [0.29951984, 0.        , 0.        , 0.        , 0.        ,\n",
       "        0.        , 0.        , 0.        , 0.        , 0.        ,\n",
       "        0.        , 0.        , 0.        , 0.        , 0.        ,\n",
       "        0.        , 0.        , 0.        , 0.        , 0.        ],\n",
       "       [0.34512598, 0.        , 0.        , 0.        , 0.        ,\n",
       "        0.        , 0.        , 0.        , 0.        , 0.        ,\n",
       "        0.        , 0.        , 0.        , 0.        , 0.        ,\n",
       "        0.        , 0.        , 0.        , 0.        , 0.        ],\n",
       "       [0.30335511, 0.        , 0.        , 0.        , 0.        ,\n",
       "        0.        , 0.        , 0.        , 0.        , 0.        ,\n",
       "        0.        , 0.        , 0.        , 0.        , 0.        ,\n",
       "        0.        , 0.        , 0.        , 0.        , 0.        ],\n",
       "       [0.34189783, 0.        , 0.        , 0.        , 0.        ,\n",
       "        0.        , 0.        , 0.        , 0.        , 0.        ,\n",
       "        0.        , 0.        , 0.        , 0.        , 0.        ,\n",
       "        0.        , 0.        , 0.        , 0.        , 0.        ],\n",
       "       [0.30611082, 0.        , 0.        , 0.        , 0.        ,\n",
       "        0.        , 0.        , 0.        , 0.        , 0.        ,\n",
       "        0.        , 0.        , 0.        , 0.        , 0.        ,\n",
       "        0.        , 0.        , 0.        , 0.        , 0.        ],\n",
       "       [0.33951713, 0.        , 0.        , 0.        , 0.        ,\n",
       "        0.        , 0.        , 0.        , 0.        , 0.        ,\n",
       "        0.        , 0.        , 0.        , 0.        , 0.        ,\n",
       "        0.        , 0.        , 0.        , 0.        , 0.        ],\n",
       "       [0.30818876, 0.        , 0.        , 0.        , 0.        ,\n",
       "        0.        , 0.        , 0.        , 0.        , 0.        ,\n",
       "        0.        , 0.        , 0.        , 0.        , 0.        ,\n",
       "        0.        , 0.        , 0.        , 0.        , 0.        ],\n",
       "       [0.33768723, 0.        , 0.        , 0.        , 0.        ,\n",
       "        0.        , 0.        , 0.        , 0.        , 0.        ,\n",
       "        0.        , 0.        , 0.        , 0.        , 0.        ,\n",
       "        0.        , 0.        , 0.        , 0.        , 0.        ],\n",
       "       [0.30981286, 0.        , 0.        , 0.        , 0.        ,\n",
       "        0.        , 0.        , 0.        , 0.        , 0.        ,\n",
       "        0.        , 0.        , 0.        , 0.        , 0.        ,\n",
       "        0.        , 0.        , 0.        , 0.        , 0.        ],\n",
       "       [0.3362358 , 0.        , 0.        , 0.        , 0.        ,\n",
       "        0.        , 0.        , 0.        , 0.        , 0.        ,\n",
       "        0.        , 0.        , 0.        , 0.        , 0.        ,\n",
       "        0.        , 0.        , 0.        , 0.        , 0.        ],\n",
       "       [0.31111797, 0.        , 0.        , 0.        , 0.        ,\n",
       "        0.        , 0.        , 0.        , 0.        , 0.        ,\n",
       "        0.        , 0.        , 0.        , 0.        , 0.        ,\n",
       "        0.        , 0.        , 0.        , 0.        , 0.        ],\n",
       "       [0.33505579, 0.        , 0.        , 0.        , 0.        ,\n",
       "        0.        , 0.        , 0.        , 0.        , 0.        ,\n",
       "        0.        , 0.        , 0.        , 0.        , 0.        ,\n",
       "        0.        , 0.        , 0.        , 0.        , 0.        ],\n",
       "       [0.31219016, 0.        , 0.        , 0.        , 0.        ,\n",
       "        0.        , 0.        , 0.        , 0.        , 0.        ,\n",
       "        0.        , 0.        , 0.        , 0.        , 0.        ,\n",
       "        0.        , 0.        , 0.        , 0.        , 0.        ],\n",
       "       [0.33407717, 0.        , 0.        , 0.        , 0.        ,\n",
       "        0.        , 0.        , 0.        , 0.        , 0.        ,\n",
       "        0.        , 0.        , 0.        , 0.        , 0.        ,\n",
       "        0.        , 0.        , 0.        , 0.        , 0.        ],\n",
       "       [0.31308703, 0.        , 0.        , 0.        , 0.        ,\n",
       "        0.        , 0.        , 0.        , 0.        , 0.        ,\n",
       "        0.        , 0.        , 0.        , 0.        , 0.        ,\n",
       "        0.        , 0.        , 0.        , 0.        , 0.        ],\n",
       "       [0.33325215, 0.        , 0.        , 0.        , 0.        ,\n",
       "        0.        , 0.        , 0.        , 0.        , 0.        ,\n",
       "        0.        , 0.        , 0.        , 0.        , 0.        ,\n",
       "        0.        , 0.        , 0.        , 0.        , 0.        ],\n",
       "       [0.31384857, 0.        , 0.        , 0.        , 0.        ,\n",
       "        0.        , 0.        , 0.        , 0.        , 0.        ,\n",
       "        0.        , 0.        , 0.        , 0.        , 0.        ,\n",
       "        0.        , 0.        , 0.        , 0.        , 0.        ],\n",
       "       [0.33254699, 0.        , 0.        , 0.        , 0.        ,\n",
       "        0.        , 0.        , 0.        , 0.        , 0.        ,\n",
       "        0.        , 0.        , 0.        , 0.        , 0.        ,\n",
       "        0.        , 0.        , 0.        , 0.        , 0.        ],\n",
       "       [0.31450343, 0.        , 0.        , 0.        , 0.        ,\n",
       "        0.        , 0.        , 0.        , 0.        , 0.        ,\n",
       "        0.        , 0.        , 0.        , 0.        , 0.        ,\n",
       "        0.        , 0.        , 0.        , 0.        , 0.        ],\n",
       "       [0.3319372 , 0.        , 0.        , 0.        , 0.        ,\n",
       "        0.        , 0.        , 0.        , 0.        , 0.        ,\n",
       "        0.        , 0.        , 0.        , 0.        , 0.        ,\n",
       "        0.        , 0.        , 0.        , 0.        , 0.        ],\n",
       "       [0.31507269, 0.        , 0.        , 0.        , 0.        ,\n",
       "        0.        , 0.        , 0.        , 0.        , 0.        ,\n",
       "        0.        , 0.        , 0.        , 0.        , 0.        ,\n",
       "        0.        , 0.        , 0.        , 0.        , 0.        ]])"
      ]
     },
     "execution_count": 8,
     "metadata": {},
     "output_type": "execute_result"
    }
   ],
   "source": [
    "# Haciendo el promedio hasta 20, para mejorar la precision\n",
    "Sm = np.zeros((Sn.shape[0],20))\n",
    "Sm[:,0] = Sn\n",
    "Sm"
   ]
  },
  {
   "cell_type": "code",
   "execution_count": 9,
   "id": "a4708206-f529-4be1-9368-85ad9caf44cd",
   "metadata": {},
   "outputs": [],
   "source": [
    "for j in range(1,Sm.shape[1]):\n",
    "    for i in range(Sm.shape[0]-j):\n",
    "        Sm[i,j] = 0.5*(Sm[i+1,j-1]+Sm[i,j-1])"
   ]
  },
  {
   "cell_type": "code",
   "execution_count": 10,
   "id": "0bc1ebac-80e7-46b8-a728-7757522bbaa8",
   "metadata": {},
   "outputs": [
    {
     "data": {
      "text/plain": [
       "array([0.32336745, 0.32336743, 0.32336743, 0.32336743, 0.32336743,\n",
       "       0.32336743, 0.32336743, 0.32336743, 0.32336743, 0.32336743,\n",
       "       0.32336743, 0.        , 0.        , 0.        , 0.        ,\n",
       "       0.        , 0.        , 0.        , 0.        , 0.        ,\n",
       "       0.        , 0.        , 0.        , 0.        , 0.        ,\n",
       "       0.        , 0.        , 0.        , 0.        , 0.        ])"
      ]
     },
     "execution_count": 10,
     "metadata": {},
     "output_type": "execute_result"
    }
   ],
   "source": [
    "Sm[:,-1]"
   ]
  },
  {
   "cell_type": "code",
   "execution_count": 14,
   "id": "72a43b70-a28d-47cf-a97d-3d246a44148c",
   "metadata": {},
   "outputs": [
    {
     "data": {
      "text/plain": [
       "0.3233674316777767"
      ]
     },
     "execution_count": 14,
     "metadata": {},
     "output_type": "execute_result"
    }
   ],
   "source": [
    "Sm[10,-1]"
   ]
  },
  {
   "cell_type": "code",
   "execution_count": null,
   "id": "351aa6de-adf6-4c99-937e-166c2cb398fd",
   "metadata": {},
   "outputs": [],
   "source": []
  }
 ],
 "metadata": {
  "kernelspec": {
   "display_name": "Python 3 (ipykernel)",
   "language": "python",
   "name": "python3"
  },
  "language_info": {
   "codemirror_mode": {
    "name": "ipython",
    "version": 3
   },
   "file_extension": ".py",
   "mimetype": "text/x-python",
   "name": "python",
   "nbconvert_exporter": "python",
   "pygments_lexer": "ipython3",
   "version": "3.11.5"
  }
 },
 "nbformat": 4,
 "nbformat_minor": 5
}
