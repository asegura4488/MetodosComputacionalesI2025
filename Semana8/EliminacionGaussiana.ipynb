{
  "nbformat": 4,
  "nbformat_minor": 0,
  "metadata": {
    "colab": {
      "provenance": [],
      "authorship_tag": "ABX9TyNgXWmnVBUBoUhQ+JBG9QDZ",
      "include_colab_link": true
    },
    "kernelspec": {
      "name": "python3",
      "display_name": "Python 3"
    },
    "language_info": {
      "name": "python"
    }
  },
  "cells": [
    {
      "cell_type": "markdown",
      "metadata": {
        "id": "view-in-github",
        "colab_type": "text"
      },
      "source": [
        "<a href=\"https://colab.research.google.com/github/asegura4488/MetodosComputacionalesI2025/blob/main/Semana8/EliminacionGaussiana.ipynb\" target=\"_parent\"><img src=\"https://colab.research.google.com/assets/colab-badge.svg\" alt=\"Open In Colab\"/></a>"
      ]
    },
    {
      "cell_type": "code",
      "execution_count": 21,
      "metadata": {
        "id": "PED0pE4WueKh"
      },
      "outputs": [],
      "source": [
        "import numpy as np\n",
        "import matplotlib.pyplot as plt"
      ]
    },
    {
      "cell_type": "code",
      "source": [
        "A = np.array([[3,-1,-1],[-1.,3.,1.],[2,1,4]])\n",
        "b = np.array([1.,3.,7.])"
      ],
      "metadata": {
        "id": "0Vr9i4Snun4T"
      },
      "execution_count": 22,
      "outputs": []
    },
    {
      "cell_type": "code",
      "source": [
        "np.linalg.solve(A,b)"
      ],
      "metadata": {
        "id": "txRY7ofsuq81",
        "outputId": "5403608a-6356-44a8-fbf8-29aa8b834567",
        "colab": {
          "base_uri": "https://localhost:8080/"
        }
      },
      "execution_count": 23,
      "outputs": [
        {
          "output_type": "execute_result",
          "data": {
            "text/plain": [
              "array([1., 1., 1.])"
            ]
          },
          "metadata": {},
          "execution_count": 23
        }
      ]
    },
    {
      "cell_type": "code",
      "source": [
        "# Necesitamos llevar el sistema de ecuaciones a una triangular superior\n",
        "# Los pivotes deben diferentes de 0: a través de intercambio de feliz"
      ],
      "metadata": {
        "id": "Oxe-KgmyusWw"
      },
      "execution_count": 24,
      "outputs": []
    },
    {
      "cell_type": "code",
      "source": [
        "def TriangularSuperior(A,b=None):\n",
        "\n",
        "  A = np.array(A, dtype=float, copy=True)\n",
        "  n = A.shape[0]\n",
        "  y = None if b is None else np.array(b, dtype=float, copy=True)\n",
        "\n",
        "  for k in range(n):\n",
        "\n",
        "    if A[k,k] == 0:\n",
        "      raise ValueError(\"Error pivote\")\n",
        "    else:\n",
        "      pivote = A[k,k]\n",
        "      print(pivote)\n",
        "      for i in range(k+1,n):\n",
        "        #\n",
        "        print(A[i,k],A[i,k]/pivote)\n",
        "\n",
        "  return (A,y) if b is not None else A"
      ],
      "metadata": {
        "id": "5VnSlmWSuqXl"
      },
      "execution_count": 25,
      "outputs": []
    },
    {
      "cell_type": "code",
      "source": [
        "U,y = TriangularSuperior(A,b)"
      ],
      "metadata": {
        "colab": {
          "base_uri": "https://localhost:8080/"
        },
        "id": "DO-tdMr_u-S7",
        "outputId": "444449a0-0555-4b39-d23c-4be872a11b5f"
      },
      "execution_count": 28,
      "outputs": [
        {
          "output_type": "stream",
          "name": "stdout",
          "text": [
            "3.0\n",
            "-1.0 -0.3333333333333333\n",
            "2.0 0.6666666666666666\n",
            "3.0\n",
            "1.0 0.3333333333333333\n",
            "4.0\n"
          ]
        }
      ]
    },
    {
      "cell_type": "code",
      "source": [
        "U"
      ],
      "metadata": {
        "colab": {
          "base_uri": "https://localhost:8080/"
        },
        "id": "SaNxdnYpwl0B",
        "outputId": "0d163672-87e6-4091-cbb5-c6387185beb7"
      },
      "execution_count": 29,
      "outputs": [
        {
          "output_type": "execute_result",
          "data": {
            "text/plain": [
              "array([[ 3., -1., -1.],\n",
              "       [-1.,  3.,  1.],\n",
              "       [ 2.,  1.,  4.]])"
            ]
          },
          "metadata": {},
          "execution_count": 29
        }
      ]
    },
    {
      "cell_type": "code",
      "source": [],
      "metadata": {
        "id": "D1HRnLw_wmko"
      },
      "execution_count": 20,
      "outputs": []
    },
    {
      "cell_type": "code",
      "source": [],
      "metadata": {
        "id": "rYU4czG31JhZ"
      },
      "execution_count": null,
      "outputs": []
    }
  ]
}