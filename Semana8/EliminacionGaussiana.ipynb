{
  "nbformat": 4,
  "nbformat_minor": 0,
  "metadata": {
    "colab": {
      "provenance": [],
      "authorship_tag": "ABX9TyNVtfb8y/pU+r1LZHmtzR7J",
      "include_colab_link": true
    },
    "kernelspec": {
      "name": "python3",
      "display_name": "Python 3"
    },
    "language_info": {
      "name": "python"
    }
  },
  "cells": [
    {
      "cell_type": "markdown",
      "metadata": {
        "id": "view-in-github",
        "colab_type": "text"
      },
      "source": [
        "<a href=\"https://colab.research.google.com/github/asegura4488/MetodosComputacionalesI2025/blob/main/Semana8/EliminacionGaussiana.ipynb\" target=\"_parent\"><img src=\"https://colab.research.google.com/assets/colab-badge.svg\" alt=\"Open In Colab\"/></a>"
      ]
    },
    {
      "cell_type": "code",
      "execution_count": 1,
      "metadata": {
        "id": "PED0pE4WueKh"
      },
      "outputs": [],
      "source": [
        "import numpy as np\n",
        "import matplotlib.pyplot as plt"
      ]
    },
    {
      "cell_type": "code",
      "source": [
        "A = np.array([[3,-1,-1],[-1.,3.,1.],[2,1,4]])\n",
        "b = np.array([1.,3.,7.])"
      ],
      "metadata": {
        "id": "0Vr9i4Snun4T"
      },
      "execution_count": 2,
      "outputs": []
    },
    {
      "cell_type": "code",
      "source": [
        "np.linalg.solve(A,b)"
      ],
      "metadata": {
        "id": "txRY7ofsuq81",
        "outputId": "0914b527-337a-4f0c-d8e9-1b6d156547e2",
        "colab": {
          "base_uri": "https://localhost:8080/"
        }
      },
      "execution_count": 4,
      "outputs": [
        {
          "output_type": "execute_result",
          "data": {
            "text/plain": [
              "array([1., 1., 1.])"
            ]
          },
          "metadata": {},
          "execution_count": 4
        }
      ]
    },
    {
      "cell_type": "code",
      "source": [
        "# Necesitamos llevar el sistema de ecuaciones a una triangular superior\n",
        "# Los pivotes deben diferentes de 0: a través de intercambio de feliz"
      ],
      "metadata": {
        "id": "Oxe-KgmyusWw"
      },
      "execution_count": 5,
      "outputs": []
    },
    {
      "cell_type": "code",
      "source": [
        "def TriangularSuperior(A_):\n",
        "\n",
        "  A = A_.copy()\n",
        "  n = A.shape[0]\n",
        "\n",
        "  for i in range(n): # Iteramos sobre cada fila\n",
        "    print(A[i,:])\n",
        "    for j in range(i+1,n):\n",
        "      print(A[i,:],i,A[j,:],j)"
      ],
      "metadata": {
        "id": "5VnSlmWSuqXl"
      },
      "execution_count": 17,
      "outputs": []
    },
    {
      "cell_type": "code",
      "source": [
        "TriangularSuperior(A)"
      ],
      "metadata": {
        "colab": {
          "base_uri": "https://localhost:8080/"
        },
        "id": "DO-tdMr_u-S7",
        "outputId": "0baed3a1-2dbf-45a1-f1dd-30ea3f52c1e6"
      },
      "execution_count": 18,
      "outputs": [
        {
          "output_type": "stream",
          "name": "stdout",
          "text": [
            "[ 3. -1. -1.]\n",
            "[ 3. -1. -1.] 0 [-1.  3.  1.] 1\n",
            "[ 3. -1. -1.] 0 [2. 1. 4.] 2\n",
            "[-1.  3.  1.]\n",
            "[-1.  3.  1.] 1 [2. 1. 4.] 2\n",
            "[2. 1. 4.]\n"
          ]
        }
      ]
    },
    {
      "cell_type": "code",
      "source": [
        "A"
      ],
      "metadata": {
        "colab": {
          "base_uri": "https://localhost:8080/"
        },
        "id": "SaNxdnYpwl0B",
        "outputId": "034b1268-0343-4478-af0d-c10f88a03d54"
      },
      "execution_count": 12,
      "outputs": [
        {
          "output_type": "execute_result",
          "data": {
            "text/plain": [
              "array([[ 3., -1., -1.],\n",
              "       [-1.,  3.,  1.],\n",
              "       [ 2.,  1.,  4.]])"
            ]
          },
          "metadata": {},
          "execution_count": 12
        }
      ]
    },
    {
      "cell_type": "code",
      "source": [],
      "metadata": {
        "id": "D1HRnLw_wmko"
      },
      "execution_count": null,
      "outputs": []
    }
  ]
}