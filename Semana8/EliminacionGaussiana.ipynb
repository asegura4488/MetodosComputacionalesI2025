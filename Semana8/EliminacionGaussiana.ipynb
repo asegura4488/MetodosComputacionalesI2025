{
  "nbformat": 4,
  "nbformat_minor": 0,
  "metadata": {
    "colab": {
      "provenance": [],
      "authorship_tag": "ABX9TyMRw9osuKYBzSZZdIcR13hs",
      "include_colab_link": true
    },
    "kernelspec": {
      "name": "python3",
      "display_name": "Python 3"
    },
    "language_info": {
      "name": "python"
    }
  },
  "cells": [
    {
      "cell_type": "markdown",
      "metadata": {
        "id": "view-in-github",
        "colab_type": "text"
      },
      "source": [
        "<a href=\"https://colab.research.google.com/github/asegura4488/MetodosComputacionalesI2025/blob/main/Semana8/EliminacionGaussiana.ipynb\" target=\"_parent\"><img src=\"https://colab.research.google.com/assets/colab-badge.svg\" alt=\"Open In Colab\"/></a>"
      ]
    },
    {
      "cell_type": "code",
      "execution_count": 8,
      "metadata": {
        "id": "PED0pE4WueKh"
      },
      "outputs": [],
      "source": [
        "import numpy as np\n",
        "import matplotlib.pyplot as plt"
      ]
    },
    {
      "cell_type": "code",
      "source": [
        "A = np.array([[3,-1,-1],[-1.,3.,1.],[2,1,4]])\n",
        "b = np.array([1.,3.,7.])"
      ],
      "metadata": {
        "id": "0Vr9i4Snun4T"
      },
      "execution_count": 9,
      "outputs": []
    },
    {
      "cell_type": "code",
      "source": [
        "np.linalg.solve(A,b)"
      ],
      "metadata": {
        "id": "txRY7ofsuq81",
        "outputId": "581764f2-9ef9-409d-83f9-ae3375c9dd9c",
        "colab": {
          "base_uri": "https://localhost:8080/"
        }
      },
      "execution_count": 10,
      "outputs": [
        {
          "output_type": "execute_result",
          "data": {
            "text/plain": [
              "array([1., 1., 1.])"
            ]
          },
          "metadata": {},
          "execution_count": 10
        }
      ]
    },
    {
      "cell_type": "code",
      "source": [
        "# Necesitamos llevar el sistema de ecuaciones a una triangular superior\n",
        "# Los pivotes deben diferentes de 0: a través de intercambio de feliz"
      ],
      "metadata": {
        "id": "Oxe-KgmyusWw"
      },
      "execution_count": 4,
      "outputs": []
    },
    {
      "cell_type": "code",
      "source": [
        "def TriangularSuperior(A,b=None):\n",
        "\n",
        "  A = np.array(A, dtype=float, copy=True)\n",
        "  n = A.shape[0]\n",
        "  y = None if b is None else np.array(b, dtype=float, copy=True)\n",
        "\n",
        "  for k in range(n):\n",
        "\n",
        "    if A[k,k] == 0:\n",
        "      raise ValueError(\"Error pivote\")\n",
        "    else:\n",
        "      pivote = A[k,k]\n",
        "      #print(pivote)\n",
        "      for i in range(k+1,n):\n",
        "        # Factor de elminacion\n",
        "        m_ik = A[i,k] / pivote\n",
        "        A[i, k:] = A[i, k:] - m_ik * A[k, k:]\n",
        "        if y is not None:\n",
        "          y[i] = y[i] - m_ik * y[k]\n",
        "\n",
        "\n",
        "  return (A,y) if b is not None else A"
      ],
      "metadata": {
        "id": "5VnSlmWSuqXl"
      },
      "execution_count": 22,
      "outputs": []
    },
    {
      "cell_type": "code",
      "source": [
        "U,y = TriangularSuperior(A,b)"
      ],
      "metadata": {
        "id": "DO-tdMr_u-S7"
      },
      "execution_count": 23,
      "outputs": []
    },
    {
      "cell_type": "code",
      "source": [
        "U"
      ],
      "metadata": {
        "colab": {
          "base_uri": "https://localhost:8080/"
        },
        "id": "SaNxdnYpwl0B",
        "outputId": "949f3334-78c2-455e-e32c-fcfc37518df8"
      },
      "execution_count": 24,
      "outputs": [
        {
          "output_type": "execute_result",
          "data": {
            "text/plain": [
              "array([[ 3.        , -1.        , -1.        ],\n",
              "       [ 0.        ,  2.66666667,  0.66666667],\n",
              "       [ 0.        ,  0.        ,  4.25      ]])"
            ]
          },
          "metadata": {},
          "execution_count": 24
        }
      ]
    },
    {
      "cell_type": "code",
      "source": [
        "y"
      ],
      "metadata": {
        "id": "D1HRnLw_wmko",
        "colab": {
          "base_uri": "https://localhost:8080/"
        },
        "outputId": "7ca3b3c6-3c02-4d4d-9bdf-e534a9918430"
      },
      "execution_count": 25,
      "outputs": [
        {
          "output_type": "execute_result",
          "data": {
            "text/plain": [
              "array([1.        , 3.33333333, 4.25      ])"
            ]
          },
          "metadata": {},
          "execution_count": 25
        }
      ]
    },
    {
      "cell_type": "code",
      "source": [],
      "metadata": {
        "id": "rYU4czG31JhZ"
      },
      "execution_count": null,
      "outputs": []
    }
  ]
}