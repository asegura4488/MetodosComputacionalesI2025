{
  "nbformat": 4,
  "nbformat_minor": 0,
  "metadata": {
    "colab": {
      "provenance": [],
      "authorship_tag": "ABX9TyPSy7WxPVq/Jqib4w/Yeumc",
      "include_colab_link": true
    },
    "kernelspec": {
      "name": "python3",
      "display_name": "Python 3"
    },
    "language_info": {
      "name": "python"
    }
  },
  "cells": [
    {
      "cell_type": "markdown",
      "metadata": {
        "id": "view-in-github",
        "colab_type": "text"
      },
      "source": [
        "<a href=\"https://colab.research.google.com/github/asegura4488/MetodosComputacionalesI2025/blob/main/Semana8/EliminacionGaussiana.ipynb\" target=\"_parent\"><img src=\"https://colab.research.google.com/assets/colab-badge.svg\" alt=\"Open In Colab\"/></a>"
      ]
    },
    {
      "cell_type": "code",
      "execution_count": 1,
      "metadata": {
        "id": "PED0pE4WueKh"
      },
      "outputs": [],
      "source": [
        "import numpy as np\n",
        "import matplotlib.pyplot as plt"
      ]
    },
    {
      "cell_type": "code",
      "source": [
        "A = np.array([[3,-1,-1],[-1.,3.,1.],[2,1,4]])\n",
        "b = np.array([1.,3.,7.])"
      ],
      "metadata": {
        "id": "0Vr9i4Snun4T"
      },
      "execution_count": 2,
      "outputs": []
    },
    {
      "cell_type": "code",
      "source": [
        "np.linalg.solve(A,b)"
      ],
      "metadata": {
        "id": "txRY7ofsuq81",
        "outputId": "0914b527-337a-4f0c-d8e9-1b6d156547e2",
        "colab": {
          "base_uri": "https://localhost:8080/"
        }
      },
      "execution_count": 4,
      "outputs": [
        {
          "output_type": "execute_result",
          "data": {
            "text/plain": [
              "array([1., 1., 1.])"
            ]
          },
          "metadata": {},
          "execution_count": 4
        }
      ]
    },
    {
      "cell_type": "code",
      "source": [
        "# Necesitamos llevar el sistema de ecuaciones a una triangular superior\n",
        "# Los pivotes deben diferentes de 0: a través de intercambio de feliz"
      ],
      "metadata": {
        "id": "Oxe-KgmyusWw"
      },
      "execution_count": 5,
      "outputs": []
    },
    {
      "cell_type": "code",
      "source": [
        "def TriangularSuperior(A_):\n",
        "\n",
        "  A = A_.copy()\n",
        "  n = A.shape[0]\n",
        "\n",
        "  for i in range(n): # Iteramos sobre cada fila\n",
        "    print(A[i,:])\n",
        "    for j in range(i+1,n):\n",
        "      #print(A[i,:],i,A[j,:],j)\n",
        "      #print(A[j,i]) # En donde estoy??????????\n",
        "      a = A[j,i]/A[i,i]\n",
        "      #print(a*A[i,:],'aca')\n",
        "      A[j,:] -= a*A[i,:]\n",
        "      #print(A[j,:])\n",
        "\n",
        "  print(A)"
      ],
      "metadata": {
        "id": "5VnSlmWSuqXl"
      },
      "execution_count": 31,
      "outputs": []
    },
    {
      "cell_type": "code",
      "source": [
        "TriangularSuperior(A)"
      ],
      "metadata": {
        "colab": {
          "base_uri": "https://localhost:8080/"
        },
        "id": "DO-tdMr_u-S7",
        "outputId": "f0db2695-45e4-434c-f1b6-10d959b9d761"
      },
      "execution_count": 32,
      "outputs": [
        {
          "output_type": "stream",
          "name": "stdout",
          "text": [
            "[ 3. -1. -1.]\n",
            "[0.         2.66666667 0.66666667]\n",
            "[0.   0.   4.25]\n",
            "[[ 3.         -1.         -1.        ]\n",
            " [ 0.          2.66666667  0.66666667]\n",
            " [ 0.          0.          4.25      ]]\n"
          ]
        }
      ]
    },
    {
      "cell_type": "code",
      "source": [
        "A"
      ],
      "metadata": {
        "colab": {
          "base_uri": "https://localhost:8080/"
        },
        "id": "SaNxdnYpwl0B",
        "outputId": "034b1268-0343-4478-af0d-c10f88a03d54"
      },
      "execution_count": 12,
      "outputs": [
        {
          "output_type": "execute_result",
          "data": {
            "text/plain": [
              "array([[ 3., -1., -1.],\n",
              "       [-1.,  3.,  1.],\n",
              "       [ 2.,  1.,  4.]])"
            ]
          },
          "metadata": {},
          "execution_count": 12
        }
      ]
    },
    {
      "cell_type": "code",
      "source": [
        "for i in reversed(range(10)):\n",
        "  print(i)"
      ],
      "metadata": {
        "colab": {
          "base_uri": "https://localhost:8080/"
        },
        "id": "D1HRnLw_wmko",
        "outputId": "6ed5bddf-4dbb-4ac2-dc4b-5086f97b8b01"
      },
      "execution_count": 33,
      "outputs": [
        {
          "output_type": "stream",
          "name": "stdout",
          "text": [
            "9\n",
            "8\n",
            "7\n",
            "6\n",
            "5\n",
            "4\n",
            "3\n",
            "2\n",
            "1\n",
            "0\n"
          ]
        }
      ]
    },
    {
      "cell_type": "code",
      "source": [],
      "metadata": {
        "id": "rYU4czG31JhZ"
      },
      "execution_count": null,
      "outputs": []
    }
  ]
}