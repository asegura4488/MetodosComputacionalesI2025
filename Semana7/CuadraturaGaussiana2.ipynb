{
  "nbformat": 4,
  "nbformat_minor": 0,
  "metadata": {
    "colab": {
      "provenance": [],
      "authorship_tag": "ABX9TyPdOsuep30gPjRYh/Mh2dFu",
      "include_colab_link": true
    },
    "kernelspec": {
      "name": "python3",
      "display_name": "Python 3"
    },
    "language_info": {
      "name": "python"
    }
  },
  "cells": [
    {
      "cell_type": "markdown",
      "metadata": {
        "id": "view-in-github",
        "colab_type": "text"
      },
      "source": [
        "<a href=\"https://colab.research.google.com/github/asegura4488/MetodosComputacionalesI2025/blob/main/Semana7/CuadraturaGaussiana2.ipynb\" target=\"_parent\"><img src=\"https://colab.research.google.com/assets/colab-badge.svg\" alt=\"Open In Colab\"/></a>"
      ]
    },
    {
      "cell_type": "code",
      "execution_count": 10,
      "metadata": {
        "id": "4eIoBLTt89cS"
      },
      "outputs": [],
      "source": [
        "import numpy as np\n",
        "import matplotlib.pyplot as plt\n",
        "from scipy import integrate\n",
        "import sympy as sym\n",
        "import math\n",
        "sym.init_printing(use_unicode=True)"
      ]
    },
    {
      "cell_type": "code",
      "source": [
        "deg = 20\n",
        "Roots, Weights = np.polynomial.legendre.leggauss(deg)"
      ],
      "metadata": {
        "id": "VJpSzINt9D_C"
      },
      "execution_count": 101,
      "outputs": []
    },
    {
      "cell_type": "code",
      "source": [
        "Roots"
      ],
      "metadata": {
        "colab": {
          "base_uri": "https://localhost:8080/"
        },
        "id": "ChuR7jD89g_i",
        "outputId": "7d7f096d-9808-42f5-dc42-a02d0344c8d5"
      },
      "execution_count": 102,
      "outputs": [
        {
          "output_type": "execute_result",
          "data": {
            "text/plain": [
              "array([-0.9931286 , -0.96397193, -0.91223443, -0.83911697, -0.74633191,\n",
              "       -0.63605368, -0.510867  , -0.37370609, -0.22778585, -0.07652652,\n",
              "        0.07652652,  0.22778585,  0.37370609,  0.510867  ,  0.63605368,\n",
              "        0.74633191,  0.83911697,  0.91223443,  0.96397193,  0.9931286 ])"
            ]
          },
          "metadata": {},
          "execution_count": 102
        }
      ]
    },
    {
      "cell_type": "code",
      "source": [
        "Weights"
      ],
      "metadata": {
        "colab": {
          "base_uri": "https://localhost:8080/"
        },
        "id": "oEdSqO639ipx",
        "outputId": "c32aed3a-645c-439c-d133-72db5a9cbc43"
      },
      "execution_count": 103,
      "outputs": [
        {
          "output_type": "execute_result",
          "data": {
            "text/plain": [
              "array([0.01761401, 0.04060143, 0.06267205, 0.08327674, 0.10193012,\n",
              "       0.11819453, 0.13168864, 0.14209611, 0.14917299, 0.15275339,\n",
              "       0.15275339, 0.14917299, 0.14209611, 0.13168864, 0.11819453,\n",
              "       0.10193012, 0.08327674, 0.06267205, 0.04060143, 0.01761401])"
            ]
          },
          "metadata": {},
          "execution_count": 103
        }
      ]
    },
    {
      "cell_type": "code",
      "source": [
        "f = lambda x: np.sin(x)"
      ],
      "metadata": {
        "id": "hsGEi5kE-LBX"
      },
      "execution_count": 104,
      "outputs": []
    },
    {
      "cell_type": "code",
      "source": [
        "# Debemos poner la regla de transformacion a un intervalo general\n",
        "a = 0\n",
        "b = np.pi\n",
        "t = 0.5*(Roots*(b-a)+a+b)\n",
        "I = 0.5*(b-a)*np.sum(Weights*f(t))\n",
        "I"
      ],
      "metadata": {
        "colab": {
          "base_uri": "https://localhost:8080/",
          "height": 37
        },
        "id": "S6LmIiVilh-R",
        "outputId": "cfb288a3-e91b-4606-ffaf-c84b7711fd18"
      },
      "execution_count": 105,
      "outputs": [
        {
          "output_type": "execute_result",
          "data": {
            "text/plain": [
              "np.float64(1.9999999999999982)"
            ],
            "text/latex": "$\\displaystyle 2.0$"
          },
          "metadata": {},
          "execution_count": 105
        }
      ]
    },
    {
      "cell_type": "code",
      "source": [
        "integrate.quad(f,0,np.pi)[0]"
      ],
      "metadata": {
        "colab": {
          "base_uri": "https://localhost:8080/",
          "height": 37
        },
        "id": "-p1RXlaz9jRK",
        "outputId": "8f8cf176-3a1d-4c1e-9b9a-9079f5253220"
      },
      "execution_count": 106,
      "outputs": [
        {
          "output_type": "execute_result",
          "data": {
            "text/plain": [
              "2.0"
            ],
            "text/latex": "$\\displaystyle 2.0$"
          },
          "metadata": {},
          "execution_count": 106
        }
      ]
    },
    {
      "cell_type": "code",
      "source": [
        "x = sym.Symbol('x',real=True)\n",
        "y = sym.Symbol('y',real=True)"
      ],
      "metadata": {
        "id": "09q2BywC-SOO"
      },
      "execution_count": 107,
      "outputs": []
    },
    {
      "cell_type": "code",
      "source": [
        "F = x**3*y**2*sym.sin(x)\n",
        "F"
      ],
      "metadata": {
        "id": "Cok3pSHT-_yj",
        "colab": {
          "base_uri": "https://localhost:8080/",
          "height": 39
        },
        "outputId": "ece43445-effb-4f37-b61a-6b580d74d9ef"
      },
      "execution_count": 108,
      "outputs": [
        {
          "output_type": "execute_result",
          "data": {
            "text/plain": [
              " 3  2       \n",
              "x ⋅y ⋅sin(x)"
            ],
            "text/latex": "$\\displaystyle x^{3} y^{2} \\sin{\\left(x \\right)}$"
          },
          "metadata": {},
          "execution_count": 108
        }
      ]
    },
    {
      "cell_type": "code",
      "source": [
        "a = -4.\n",
        "b = 4.\n",
        "c = -1\n",
        "d = 3.66"
      ],
      "metadata": {
        "id": "6rWVEJhfoE37"
      },
      "execution_count": 116,
      "outputs": []
    },
    {
      "cell_type": "code",
      "source": [
        "sym.integrate(F,(x,a,b),(y,c,d))"
      ],
      "metadata": {
        "colab": {
          "base_uri": "https://localhost:8080/",
          "height": 37
        },
        "id": "RA4h2Hmkn66K",
        "outputId": "6500b5e5-8d87-47cd-cd78-95a1ece53f4b"
      },
      "execution_count": 117,
      "outputs": [
        {
          "output_type": "execute_result",
          "data": {
            "text/plain": [
              "-188.103553828469"
            ],
            "text/latex": "$\\displaystyle -188.103553828469$"
          },
          "metadata": {},
          "execution_count": 117
        }
      ]
    },
    {
      "cell_type": "code",
      "source": [
        "# La doble cuadratura\n",
        "def f(x,y):\n",
        "  return x**3*y**2*np.sin(x)"
      ],
      "metadata": {
        "id": "gAUoSGpaoLVa"
      },
      "execution_count": 118,
      "outputs": []
    },
    {
      "cell_type": "code",
      "source": [
        "integrate.dblquad(f,c,d,a,b)"
      ],
      "metadata": {
        "colab": {
          "base_uri": "https://localhost:8080/",
          "height": 38
        },
        "id": "me-6k_P1pOl4",
        "outputId": "dab640ee-4bf2-4f3c-c88c-2fea4dd2e7a2"
      },
      "execution_count": 119,
      "outputs": [
        {
          "output_type": "execute_result",
          "data": {
            "text/plain": [
              "(-188.10355382846922, 2.1984304946957167e-08)"
            ],
            "text/latex": "$\\displaystyle \\left( -188.103553828469, \\  2.19843049469572 \\cdot 10^{-8}\\right)$"
          },
          "metadata": {},
          "execution_count": 119
        }
      ]
    },
    {
      "cell_type": "code",
      "source": [
        "def GetIntegral(f,x,w):\n",
        "\n",
        "  t1 = 0.5*((b-a)*x+a+b)\n",
        "  t2 = 0.5*((d-c)*x+c+d)\n",
        "\n",
        "  T1,T2 = np.meshgrid(t1,t2, indexing ='ij')\n",
        "\n",
        "  #Mapa de cuadratura\n",
        "  z = np.zeros((deg,deg))\n",
        "\n",
        "  for i in range(len(t1)):\n",
        "    for j in range(len(t1)):\n",
        "      z[i,j] = w[i]*w[j]*f(t1[i],t2[j])\n",
        "\n",
        "  I = np.sum(z)*(b-a)*(d-c)/4\n",
        "\n",
        "  return I,z,T1,T2"
      ],
      "metadata": {
        "id": "Dwi6D-8-pSkQ"
      },
      "execution_count": 120,
      "outputs": []
    },
    {
      "cell_type": "code",
      "source": [
        "I, z, T1, T2 = GetIntegral(f,Roots,Weights)\n",
        "I"
      ],
      "metadata": {
        "colab": {
          "base_uri": "https://localhost:8080/",
          "height": 37
        },
        "id": "2q4C3eSVqHD2",
        "outputId": "543e9fd2-8d50-46af-ad37-e2934c61f937"
      },
      "execution_count": 121,
      "outputs": [
        {
          "output_type": "execute_result",
          "data": {
            "text/plain": [
              "np.float64(-188.10355382847422)"
            ],
            "text/latex": "$\\displaystyle -188.103553828474$"
          },
          "metadata": {},
          "execution_count": 121
        }
      ]
    },
    {
      "cell_type": "code",
      "source": [
        "# Mostrando el mapa de cuadratura\n",
        "plt.imshow(z, origin='lower', extent=[a,b,c,d], interpolation='nearest')\n",
        "plt.colorbar(label='Nodos de Gaus')\n",
        "plt.scatter(T1.ravel(),T2.ravel())"
      ],
      "metadata": {
        "colab": {
          "base_uri": "https://localhost:8080/",
          "height": 423
        },
        "id": "QElNBWorqLRW",
        "outputId": "9dd6ef5f-a5f0-4945-90b2-8b6f767931a0"
      },
      "execution_count": 122,
      "outputs": [
        {
          "output_type": "execute_result",
          "data": {
            "text/plain": [
              "<matplotlib.collections.PathCollection at 0x79d1fed48800>"
            ]
          },
          "metadata": {},
          "execution_count": 122
        },
        {
          "output_type": "display_data",
          "data": {
            "text/plain": [
              "<Figure size 640x480 with 2 Axes>"
            ],
            "image/png": "[encoded data removed]"
          },
          "metadata": {}
        }
      ]
    },
    {
      "cell_type": "code",
      "source": [],
      "metadata": {
        "id": "vQrA0TnosXPO"
      },
      "execution_count": null,
      "outputs": []
    }
  ]
}