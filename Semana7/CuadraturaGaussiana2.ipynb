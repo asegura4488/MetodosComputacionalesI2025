{
  "nbformat": 4,
  "nbformat_minor": 0,
  "metadata": {
    "colab": {
      "provenance": [],
      "authorship_tag": "ABX9TyMOXHViXjuerBtbvj6MGHKz",
      "include_colab_link": true
    },
    "kernelspec": {
      "name": "python3",
      "display_name": "Python 3"
    },
    "language_info": {
      "name": "python"
    }
  },
  "cells": [
    {
      "cell_type": "markdown",
      "metadata": {
        "id": "view-in-github",
        "colab_type": "text"
      },
      "source": [
        "<a href=\"https://colab.research.google.com/github/asegura4488/MetodosComputacionalesI2025/blob/main/Semana7/CuadraturaGaussiana2.ipynb\" target=\"_parent\"><img src=\"https://colab.research.google.com/assets/colab-badge.svg\" alt=\"Open In Colab\"/></a>"
      ]
    },
    {
      "cell_type": "code",
      "execution_count": 10,
      "metadata": {
        "id": "4eIoBLTt89cS"
      },
      "outputs": [],
      "source": [
        "import numpy as np\n",
        "import matplotlib.pyplot as plt\n",
        "from scipy import integrate\n",
        "import sympy as sym\n",
        "import math\n",
        "sym.init_printing(use_unicode=True)"
      ]
    },
    {
      "cell_type": "code",
      "source": [
        "deg = 6\n",
        "Roots, Weights = np.polynomial.legendre.leggauss(deg)"
      ],
      "metadata": {
        "id": "VJpSzINt9D_C"
      },
      "execution_count": 55,
      "outputs": []
    },
    {
      "cell_type": "code",
      "source": [
        "Roots"
      ],
      "metadata": {
        "colab": {
          "base_uri": "https://localhost:8080/"
        },
        "id": "ChuR7jD89g_i",
        "outputId": "504f8765-4378-44ad-f2b9-8c35f52d5255"
      },
      "execution_count": 56,
      "outputs": [
        {
          "output_type": "execute_result",
          "data": {
            "text/plain": [
              "array([-0.93246951, -0.66120939, -0.23861919,  0.23861919,  0.66120939,\n",
              "        0.93246951])"
            ]
          },
          "metadata": {},
          "execution_count": 56
        }
      ]
    },
    {
      "cell_type": "code",
      "source": [
        "Weights"
      ],
      "metadata": {
        "colab": {
          "base_uri": "https://localhost:8080/"
        },
        "id": "oEdSqO639ipx",
        "outputId": "bed2c8aa-e9a3-440c-9eec-d2d569866daa"
      },
      "execution_count": 57,
      "outputs": [
        {
          "output_type": "execute_result",
          "data": {
            "text/plain": [
              "array([0.17132449, 0.36076157, 0.46791393, 0.46791393, 0.36076157,\n",
              "       0.17132449])"
            ]
          },
          "metadata": {},
          "execution_count": 57
        }
      ]
    },
    {
      "cell_type": "code",
      "source": [
        "f = lambda x: np.sin(x)"
      ],
      "metadata": {
        "id": "hsGEi5kE-LBX"
      },
      "execution_count": 58,
      "outputs": []
    },
    {
      "cell_type": "code",
      "source": [
        "# Debemos poner la regla de transformacion a un intervalo general\n",
        "a = 0\n",
        "b = np.pi\n",
        "t = 0.5*(Roots*(b-a)+a+b)\n",
        "I = 0.5*(b-a)*np.sum(Weights*f(t))\n",
        "I"
      ],
      "metadata": {
        "colab": {
          "base_uri": "https://localhost:8080/",
          "height": 37
        },
        "id": "S6LmIiVilh-R",
        "outputId": "c049b7e8-54ac-4788-899c-ee41bbe98398"
      },
      "execution_count": 59,
      "outputs": [
        {
          "output_type": "execute_result",
          "data": {
            "text/plain": [
              "np.float64(1.9999999994772721)"
            ],
            "text/latex": "$\\displaystyle 1.99999999947727$"
          },
          "metadata": {},
          "execution_count": 59
        }
      ]
    },
    {
      "cell_type": "code",
      "source": [
        "integrate.quad(f,0,np.pi)[0]"
      ],
      "metadata": {
        "colab": {
          "base_uri": "https://localhost:8080/",
          "height": 37
        },
        "id": "-p1RXlaz9jRK",
        "outputId": "4c46840f-2ef8-4944-eef6-8be8be310cb3"
      },
      "execution_count": 60,
      "outputs": [
        {
          "output_type": "execute_result",
          "data": {
            "text/plain": [
              "2.0"
            ],
            "text/latex": "$\\displaystyle 2.0$"
          },
          "metadata": {},
          "execution_count": 60
        }
      ]
    },
    {
      "cell_type": "code",
      "source": [
        "x = sym.Symbol('x',real=True)\n",
        "y = sym.Symbol('y',real=True)"
      ],
      "metadata": {
        "id": "09q2BywC-SOO"
      },
      "execution_count": 61,
      "outputs": []
    },
    {
      "cell_type": "code",
      "source": [
        "F = x**3*y**2*sym.sin(x)\n",
        "F"
      ],
      "metadata": {
        "id": "Cok3pSHT-_yj",
        "colab": {
          "base_uri": "https://localhost:8080/",
          "height": 39
        },
        "outputId": "209c3596-b2de-4ce1-8fd2-cc7903b4cfcb"
      },
      "execution_count": 62,
      "outputs": [
        {
          "output_type": "execute_result",
          "data": {
            "text/plain": [
              " 3  2       \n",
              "x ⋅y ⋅sin(x)"
            ],
            "text/latex": "$\\displaystyle x^{3} y^{2} \\sin{\\left(x \\right)}$"
          },
          "metadata": {},
          "execution_count": 62
        }
      ]
    },
    {
      "cell_type": "code",
      "source": [
        "a = -1.\n",
        "b = 3.\n",
        "c = -1\n",
        "d = np.pi"
      ],
      "metadata": {
        "id": "6rWVEJhfoE37"
      },
      "execution_count": 63,
      "outputs": []
    },
    {
      "cell_type": "code",
      "source": [
        "sym.integrate(F,(x,a,b),(y,c,d))"
      ],
      "metadata": {
        "colab": {
          "base_uri": "https://localhost:8080/",
          "height": 37
        },
        "id": "RA4h2Hmkn66K",
        "outputId": "d8e95f80-8aeb-4f9b-b6c2-0d1d55a70202"
      },
      "execution_count": 64,
      "outputs": [
        {
          "output_type": "execute_result",
          "data": {
            "text/plain": [
              "128.564425430636"
            ],
            "text/latex": "$\\displaystyle 128.564425430636$"
          },
          "metadata": {},
          "execution_count": 64
        }
      ]
    },
    {
      "cell_type": "code",
      "source": [
        "# La doble cuadratura\n",
        "def f(x,y):\n",
        "  return x**3*y**2*np.sin(x)"
      ],
      "metadata": {
        "id": "gAUoSGpaoLVa"
      },
      "execution_count": 65,
      "outputs": []
    },
    {
      "cell_type": "code",
      "source": [
        "integrate.dblquad(f,a,b,c,d)"
      ],
      "metadata": {
        "colab": {
          "base_uri": "https://localhost:8080/",
          "height": 38
        },
        "id": "me-6k_P1pOl4",
        "outputId": "4eb0c127-21fe-4d4f-bcbf-2afc2c7a82bc"
      },
      "execution_count": 66,
      "outputs": [
        {
          "output_type": "execute_result",
          "data": {
            "text/plain": [
              "(115.11564711432864, 1.2780404192095212e-12)"
            ],
            "text/latex": "$\\displaystyle \\left( 115.115647114329, \\  1.27804041920952 \\cdot 10^{-12}\\right)$"
          },
          "metadata": {},
          "execution_count": 66
        }
      ]
    },
    {
      "cell_type": "code",
      "source": [
        "def GetIntegral(f,x,w):\n",
        "\n",
        "  t1 = 0.5*((b-a)*x+a+b)\n",
        "  t2 = 0.5*((d-c)*x+c+d)\n",
        "\n",
        "  T1,T2 = np.meshgrid(t1,t2, indexing ='ij')\n",
        "\n",
        "  #Mapa de cuadratura\n",
        "  z = np.zeros((deg,deg))\n",
        "\n",
        "  for i in range(len(t1)):\n",
        "    for j in range(len(t1)):\n",
        "      z[i,j] = w[i]*w[j]*f(t1[i],t2[j])\n",
        "\n",
        "  I = np.sum(z)*(b-a)*(d-c)/4\n",
        "\n",
        "  return I,z"
      ],
      "metadata": {
        "id": "Dwi6D-8-pSkQ"
      },
      "execution_count": 69,
      "outputs": []
    },
    {
      "cell_type": "code",
      "source": [
        "I, z = GetIntegral(f,Roots,Weights)\n",
        "I"
      ],
      "metadata": {
        "colab": {
          "base_uri": "https://localhost:8080/",
          "height": 37
        },
        "id": "2q4C3eSVqHD2",
        "outputId": "d9c1de46-a6df-4857-d09c-9685f7ad1c33"
      },
      "execution_count": 70,
      "outputs": [
        {
          "output_type": "execute_result",
          "data": {
            "text/plain": [
              "np.float64(128.56438308263105)"
            ],
            "text/latex": "$\\displaystyle 128.564383082631$"
          },
          "metadata": {},
          "execution_count": 70
        }
      ]
    },
    {
      "cell_type": "code",
      "source": [],
      "metadata": {
        "id": "QElNBWorqLRW"
      },
      "execution_count": null,
      "outputs": []
    }
  ]
}