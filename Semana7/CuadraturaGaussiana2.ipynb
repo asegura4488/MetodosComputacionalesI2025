{
  "nbformat": 4,
  "nbformat_minor": 0,
  "metadata": {
    "colab": {
      "provenance": [],
      "authorship_tag": "ABX9TyPgzgNMDHUGC1rK/YEqxr2U",
      "include_colab_link": true
    },
    "kernelspec": {
      "name": "python3",
      "display_name": "Python 3"
    },
    "language_info": {
      "name": "python"
    }
  },
  "cells": [
    {
      "cell_type": "markdown",
      "metadata": {
        "id": "view-in-github",
        "colab_type": "text"
      },
      "source": [
        "<a href=\"https://colab.research.google.com/github/asegura4488/MetodosComputacionalesI2025/blob/main/Semana7/CuadraturaGaussiana2.ipynb\" target=\"_parent\"><img src=\"https://colab.research.google.com/assets/colab-badge.svg\" alt=\"Open In Colab\"/></a>"
      ]
    },
    {
      "cell_type": "code",
      "execution_count": 10,
      "metadata": {
        "id": "4eIoBLTt89cS"
      },
      "outputs": [],
      "source": [
        "import numpy as np\n",
        "import matplotlib.pyplot as plt\n",
        "from scipy import integrate\n",
        "import sympy as sym\n",
        "import math\n",
        "sym.init_printing(use_unicode=True)"
      ]
    },
    {
      "cell_type": "code",
      "source": [
        "Roots, Weights = np.polynomial.legendre.leggauss(10)"
      ],
      "metadata": {
        "id": "VJpSzINt9D_C"
      },
      "execution_count": 11,
      "outputs": []
    },
    {
      "cell_type": "code",
      "source": [
        "Roots"
      ],
      "metadata": {
        "colab": {
          "base_uri": "https://localhost:8080/"
        },
        "id": "ChuR7jD89g_i",
        "outputId": "257b1ad2-17ed-4385-cf17-102e62946dd3"
      },
      "execution_count": 12,
      "outputs": [
        {
          "output_type": "execute_result",
          "data": {
            "text/plain": [
              "array([-0.97390653, -0.86506337, -0.67940957, -0.43339539, -0.14887434,\n",
              "        0.14887434,  0.43339539,  0.67940957,  0.86506337,  0.97390653])"
            ]
          },
          "metadata": {},
          "execution_count": 12
        }
      ]
    },
    {
      "cell_type": "code",
      "source": [
        "Weights"
      ],
      "metadata": {
        "colab": {
          "base_uri": "https://localhost:8080/"
        },
        "id": "oEdSqO639ipx",
        "outputId": "9eaf7b0b-fd6e-4014-fb21-02de289f1369"
      },
      "execution_count": 13,
      "outputs": [
        {
          "output_type": "execute_result",
          "data": {
            "text/plain": [
              "array([0.06667134, 0.14945135, 0.21908636, 0.26926672, 0.29552422,\n",
              "       0.29552422, 0.26926672, 0.21908636, 0.14945135, 0.06667134])"
            ]
          },
          "metadata": {},
          "execution_count": 13
        }
      ]
    },
    {
      "cell_type": "code",
      "source": [
        "f = lambda x: np.sin(x)"
      ],
      "metadata": {
        "id": "hsGEi5kE-LBX"
      },
      "execution_count": 14,
      "outputs": []
    },
    {
      "cell_type": "code",
      "source": [
        "# Debemos poner la regla de transformacion a un intervalo general\n",
        "a = 0\n",
        "b = np.pi\n",
        "t = 0.5*(Roots*(b-a)+a+b)\n",
        "I = 0.5*(b-a)*np.sum(Weights*f(t))\n",
        "I"
      ],
      "metadata": {
        "colab": {
          "base_uri": "https://localhost:8080/",
          "height": 37
        },
        "id": "S6LmIiVilh-R",
        "outputId": "d6a1d1e9-3fb1-4aad-ee8f-896561ec120b"
      },
      "execution_count": 18,
      "outputs": [
        {
          "output_type": "execute_result",
          "data": {
            "text/plain": [
              "np.float64(2.0000000000000004)"
            ],
            "text/latex": "$\\displaystyle 2.0$"
          },
          "metadata": {},
          "execution_count": 18
        }
      ]
    },
    {
      "cell_type": "code",
      "source": [
        "integrate.quad(f,0,np.pi)[0]"
      ],
      "metadata": {
        "colab": {
          "base_uri": "https://localhost:8080/",
          "height": 37
        },
        "id": "-p1RXlaz9jRK",
        "outputId": "dc54f446-e648-4283-8a8c-0d05cb2c35ca"
      },
      "execution_count": 22,
      "outputs": [
        {
          "output_type": "execute_result",
          "data": {
            "text/plain": [
              "2.0"
            ],
            "text/latex": "$\\displaystyle 2.0$"
          },
          "metadata": {},
          "execution_count": 22
        }
      ]
    },
    {
      "cell_type": "code",
      "source": [],
      "metadata": {
        "id": "09q2BywC-SOO"
      },
      "execution_count": null,
      "outputs": []
    },
    {
      "cell_type": "code",
      "source": [],
      "metadata": {
        "id": "Cok3pSHT-_yj"
      },
      "execution_count": null,
      "outputs": []
    }
  ]
}