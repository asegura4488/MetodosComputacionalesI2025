{
  "nbformat": 4,
  "nbformat_minor": 0,
  "metadata": {
    "colab": {
      "provenance": [],
      "authorship_tag": "ABX9TyOE9tPukal2Mm5L+5ifRLd6",
      "include_colab_link": true
    },
    "kernelspec": {
      "name": "python3",
      "display_name": "Python 3"
    },
    "language_info": {
      "name": "python"
    }
  },
  "cells": [
    {
      "cell_type": "markdown",
      "metadata": {
        "id": "view-in-github",
        "colab_type": "text"
      },
      "source": [
        "<a href=\"https://colab.research.google.com/github/asegura4488/MetodosComputacionalesI2025/blob/main/Semana7/CuadraturaGaussiana2.ipynb\" target=\"_parent\"><img src=\"https://colab.research.google.com/assets/colab-badge.svg\" alt=\"Open In Colab\"/></a>"
      ]
    },
    {
      "cell_type": "code",
      "execution_count": 10,
      "metadata": {
        "id": "4eIoBLTt89cS"
      },
      "outputs": [],
      "source": [
        "import numpy as np\n",
        "import matplotlib.pyplot as plt\n",
        "from scipy import integrate\n",
        "import sympy as sym\n",
        "import math\n",
        "sym.init_printing(use_unicode=True)"
      ]
    },
    {
      "cell_type": "code",
      "source": [
        "deg = 10\n",
        "Roots, Weights = np.polynomial.legendre.leggauss(deg)"
      ],
      "metadata": {
        "id": "VJpSzINt9D_C"
      },
      "execution_count": 123,
      "outputs": []
    },
    {
      "cell_type": "code",
      "source": [
        "Roots"
      ],
      "metadata": {
        "colab": {
          "base_uri": "https://localhost:8080/"
        },
        "id": "ChuR7jD89g_i",
        "outputId": "f79a0019-e7f3-419f-b92e-7e911798bc86"
      },
      "execution_count": 124,
      "outputs": [
        {
          "output_type": "execute_result",
          "data": {
            "text/plain": [
              "array([-0.97390653, -0.86506337, -0.67940957, -0.43339539, -0.14887434,\n",
              "        0.14887434,  0.43339539,  0.67940957,  0.86506337,  0.97390653])"
            ]
          },
          "metadata": {},
          "execution_count": 124
        }
      ]
    },
    {
      "cell_type": "code",
      "source": [
        "Weights"
      ],
      "metadata": {
        "colab": {
          "base_uri": "https://localhost:8080/"
        },
        "id": "oEdSqO639ipx",
        "outputId": "eb82a903-b4ba-4f91-ba35-ce1a87c4d756"
      },
      "execution_count": 125,
      "outputs": [
        {
          "output_type": "execute_result",
          "data": {
            "text/plain": [
              "array([0.06667134, 0.14945135, 0.21908636, 0.26926672, 0.29552422,\n",
              "       0.29552422, 0.26926672, 0.21908636, 0.14945135, 0.06667134])"
            ]
          },
          "metadata": {},
          "execution_count": 125
        }
      ]
    },
    {
      "cell_type": "code",
      "source": [
        "f = lambda x: np.sin(x)"
      ],
      "metadata": {
        "id": "hsGEi5kE-LBX"
      },
      "execution_count": 126,
      "outputs": []
    },
    {
      "cell_type": "code",
      "source": [
        "# Debemos poner la regla de transformacion a un intervalo general\n",
        "a = 0\n",
        "b = np.pi\n",
        "t = 0.5*(Roots*(b-a)+a+b)\n",
        "I = 0.5*(b-a)*np.sum(Weights*f(t))\n",
        "I"
      ],
      "metadata": {
        "colab": {
          "base_uri": "https://localhost:8080/",
          "height": 37
        },
        "id": "S6LmIiVilh-R",
        "outputId": "c0f075da-df68-47d1-98ff-d2248d3a171c"
      },
      "execution_count": 127,
      "outputs": [
        {
          "output_type": "execute_result",
          "data": {
            "text/plain": [
              "np.float64(2.0000000000000004)"
            ],
            "text/latex": "$\\displaystyle 2.0$"
          },
          "metadata": {},
          "execution_count": 127
        }
      ]
    },
    {
      "cell_type": "code",
      "source": [
        "integrate.quad(f,0,np.pi)[0]"
      ],
      "metadata": {
        "colab": {
          "base_uri": "https://localhost:8080/",
          "height": 37
        },
        "id": "-p1RXlaz9jRK",
        "outputId": "f5f1f56c-a3a0-4c36-c2f0-7f44968f1929"
      },
      "execution_count": 128,
      "outputs": [
        {
          "output_type": "execute_result",
          "data": {
            "text/plain": [
              "2.0"
            ],
            "text/latex": "$\\displaystyle 2.0$"
          },
          "metadata": {},
          "execution_count": 128
        }
      ]
    },
    {
      "cell_type": "code",
      "source": [
        "x = sym.Symbol('x',real=True)\n",
        "y = sym.Symbol('y',real=True)"
      ],
      "metadata": {
        "id": "09q2BywC-SOO"
      },
      "execution_count": 129,
      "outputs": []
    },
    {
      "cell_type": "code",
      "source": [
        "F = x**3*y**2*sym.sin(x)\n",
        "F"
      ],
      "metadata": {
        "id": "Cok3pSHT-_yj",
        "colab": {
          "base_uri": "https://localhost:8080/",
          "height": 39
        },
        "outputId": "882b5e06-b59b-4729-e1cb-7cd283ce16b3"
      },
      "execution_count": 130,
      "outputs": [
        {
          "output_type": "execute_result",
          "data": {
            "text/plain": [
              " 3  2       \n",
              "x ⋅y ⋅sin(x)"
            ],
            "text/latex": "$\\displaystyle x^{3} y^{2} \\sin{\\left(x \\right)}$"
          },
          "metadata": {},
          "execution_count": 130
        }
      ]
    },
    {
      "cell_type": "code",
      "source": [
        "a = -4.\n",
        "b = 4.\n",
        "c = -1\n",
        "d = 3.66"
      ],
      "metadata": {
        "id": "6rWVEJhfoE37"
      },
      "execution_count": 131,
      "outputs": []
    },
    {
      "cell_type": "code",
      "source": [
        "sym.integrate(F,(x,a,b),(y,c,d))"
      ],
      "metadata": {
        "colab": {
          "base_uri": "https://localhost:8080/",
          "height": 37
        },
        "id": "RA4h2Hmkn66K",
        "outputId": "8aec3009-8bec-4eaf-d6b7-9863f134c850"
      },
      "execution_count": 132,
      "outputs": [
        {
          "output_type": "execute_result",
          "data": {
            "text/plain": [
              "-188.103553828469"
            ],
            "text/latex": "$\\displaystyle -188.103553828469$"
          },
          "metadata": {},
          "execution_count": 132
        }
      ]
    },
    {
      "cell_type": "code",
      "source": [
        "# La doble cuadratura\n",
        "def f(x,y):\n",
        "  return x**3*y**2*np.sin(x)"
      ],
      "metadata": {
        "id": "gAUoSGpaoLVa"
      },
      "execution_count": 133,
      "outputs": []
    },
    {
      "cell_type": "code",
      "source": [
        "integrate.dblquad(f,c,d,a,b)"
      ],
      "metadata": {
        "colab": {
          "base_uri": "https://localhost:8080/",
          "height": 38
        },
        "id": "me-6k_P1pOl4",
        "outputId": "41db0d82-b442-463a-8487-2fb9c5f29b32"
      },
      "execution_count": 134,
      "outputs": [
        {
          "output_type": "execute_result",
          "data": {
            "text/plain": [
              "(-188.10355382846922, 2.1984304946957167e-08)"
            ],
            "text/latex": "$\\displaystyle \\left( -188.103553828469, \\  2.19843049469572 \\cdot 10^{-8}\\right)$"
          },
          "metadata": {},
          "execution_count": 134
        }
      ]
    },
    {
      "cell_type": "code",
      "source": [
        "def GetIntegral(f,x,w):\n",
        "\n",
        "  t1 = 0.5*((b-a)*x+a+b)\n",
        "  t2 = 0.5*((d-c)*x+c+d)\n",
        "\n",
        "  T1,T2 = np.meshgrid(t1,t2, indexing ='ij')\n",
        "\n",
        "  #Mapa de cuadratura\n",
        "  z = np.zeros((deg,deg))\n",
        "\n",
        "  for i in range(len(t1)):\n",
        "    for j in range(len(t1)):\n",
        "      z[i,j] = w[i]*w[j]*f(t1[i],t2[j])\n",
        "\n",
        "  I = np.sum(z)*(b-a)*(d-c)/4\n",
        "\n",
        "  return I,z,T1,T2"
      ],
      "metadata": {
        "id": "Dwi6D-8-pSkQ"
      },
      "execution_count": 135,
      "outputs": []
    },
    {
      "cell_type": "code",
      "source": [
        "I, z, T1, T2 = GetIntegral(f,Roots,Weights)\n",
        "I"
      ],
      "metadata": {
        "colab": {
          "base_uri": "https://localhost:8080/",
          "height": 37
        },
        "id": "2q4C3eSVqHD2",
        "outputId": "ababac4e-d2d6-42b1-9be5-5ce9fbbd6929"
      },
      "execution_count": 136,
      "outputs": [
        {
          "output_type": "execute_result",
          "data": {
            "text/plain": [
              "np.float64(-188.10355429960308)"
            ],
            "text/latex": "$\\displaystyle -188.103554299603$"
          },
          "metadata": {},
          "execution_count": 136
        }
      ]
    },
    {
      "cell_type": "code",
      "source": [
        "# Mostrando el mapa de cuadratura\n",
        "plt.imshow(z, origin='lower', extent=[a,b,c,d], interpolation='nearest')\n",
        "plt.colorbar(label='Nodos de Gaus')\n",
        "plt.scatter(T1.ravel(),T2.ravel())"
      ],
      "metadata": {
        "colab": {
          "base_uri": "https://localhost:8080/",
          "height": 431
        },
        "id": "QElNBWorqLRW",
        "outputId": "fc6be507-e228-4ddc-cb74-4eb922f488ae"
      },
      "execution_count": 137,
      "outputs": [
        {
          "output_type": "execute_result",
          "data": {
            "text/plain": [
              "<matplotlib.collections.PathCollection at 0x79d1fed4c1d0>"
            ]
          },
          "metadata": {},
          "execution_count": 137
        },
        {
          "output_type": "display_data",
          "data": {
            "text/plain": [
              "<Figure size 640x480 with 2 Axes>"
            ],
            "image/png": "[encoded data removed]"
          },
          "metadata": {}
        }
      ]
    },
    {
      "cell_type": "code",
      "source": [
        "# Integramos de 0 to infty"
      ],
      "metadata": {
        "id": "vQrA0TnosXPO"
      },
      "execution_count": 138,
      "outputs": []
    },
    {
      "cell_type": "code",
      "source": [
        "Roots, Weights = np.polynomial.laguerre.laggauss(deg)\n",
        "Roots"
      ],
      "metadata": {
        "colab": {
          "base_uri": "https://localhost:8080/"
        },
        "id": "z2xe-7m1uTRJ",
        "outputId": "a427c5e5-4e26-4aad-de66-21d44bbcbb29"
      },
      "execution_count": 139,
      "outputs": [
        {
          "output_type": "execute_result",
          "data": {
            "text/plain": [
              "array([ 0.13779347,  0.72945455,  1.8083429 ,  3.4014337 ,  5.55249614,\n",
              "        8.33015275, 11.84378584, 16.27925783, 21.99658581, 29.92069701])"
            ]
          },
          "metadata": {},
          "execution_count": 139
        }
      ]
    },
    {
      "cell_type": "code",
      "source": [
        "Weights"
      ],
      "metadata": {
        "colab": {
          "base_uri": "https://localhost:8080/"
        },
        "id": "qjDKsz9duaYS",
        "outputId": "7b0f8f9f-1e16-4e75-f864-6e6ccd40e41f"
      },
      "execution_count": 150,
      "outputs": [
        {
          "output_type": "execute_result",
          "data": {
            "text/plain": [
              "array([3.08441116e-01, 4.01119929e-01, 2.18068288e-01, 6.20874561e-02,\n",
              "       9.50151698e-03, 7.53008389e-04, 2.82592335e-05, 4.24931398e-07,\n",
              "       1.83956482e-09, 9.91182722e-13])"
            ]
          },
          "metadata": {},
          "execution_count": 150
        }
      ]
    },
    {
      "cell_type": "code",
      "source": [
        "F = sym.exp(-x)*sym.sin(x)\n",
        "F"
      ],
      "metadata": {
        "colab": {
          "base_uri": "https://localhost:8080/",
          "height": 39
        },
        "id": "Z3fvpNy7uekI",
        "outputId": "a3540cc4-857a-491f-cbd4-c20cb201aa75"
      },
      "execution_count": 151,
      "outputs": [
        {
          "output_type": "execute_result",
          "data": {
            "text/plain": [
              " -x       \n",
              "ℯ  ⋅sin(x)"
            ],
            "text/latex": "$\\displaystyle e^{- x} \\sin{\\left(x \\right)}$"
          },
          "metadata": {},
          "execution_count": 151
        }
      ]
    },
    {
      "cell_type": "code",
      "source": [
        "sym.integrate(F,(x,0.,sym.oo))"
      ],
      "metadata": {
        "colab": {
          "base_uri": "https://localhost:8080/",
          "height": 51
        },
        "id": "OxjUgr_tutdQ",
        "outputId": "41d45d99-1f14-4c4c-b05f-057ac381655c"
      },
      "execution_count": 152,
      "outputs": [
        {
          "output_type": "execute_result",
          "data": {
            "text/plain": [
              "1/2"
            ],
            "text/latex": "$\\displaystyle \\frac{1}{2}$"
          },
          "metadata": {},
          "execution_count": 152
        }
      ]
    },
    {
      "cell_type": "code",
      "source": [
        "def f(x):\n",
        "  return np.sin(x)"
      ],
      "metadata": {
        "id": "JOcCsO2wu2GQ"
      },
      "execution_count": 155,
      "outputs": []
    },
    {
      "cell_type": "code",
      "source": [
        "np.sum(Weights*f(Roots))"
      ],
      "metadata": {
        "colab": {
          "base_uri": "https://localhost:8080/",
          "height": 37
        },
        "id": "ev9qVvnfvc7_",
        "outputId": "ce0c1fac-87e5-4791-d30a-4efc2c2c1ee3"
      },
      "execution_count": 156,
      "outputs": [
        {
          "output_type": "execute_result",
          "data": {
            "text/plain": [
              "np.float64(0.5000002049648508)"
            ],
            "text/latex": "$\\displaystyle 0.500000204964851$"
          },
          "metadata": {},
          "execution_count": 156
        }
      ]
    },
    {
      "cell_type": "code",
      "source": [
        "def f(x):\n",
        "  return np.exp(x)*x**3/(np.exp(x)-1)"
      ],
      "metadata": {
        "id": "2riBa-dDve83"
      },
      "execution_count": 160,
      "outputs": []
    },
    {
      "cell_type": "code",
      "source": [
        "np.sum(f(Roots)*Weights)"
      ],
      "metadata": {
        "colab": {
          "base_uri": "https://localhost:8080/",
          "height": 37
        },
        "id": "SlCI32bJxEu8",
        "outputId": "75618cf2-ee9f-4dcd-e1a1-d1c8ccddbf67"
      },
      "execution_count": 161,
      "outputs": [
        {
          "output_type": "execute_result",
          "data": {
            "text/plain": [
              "np.float64(6.493939967652104)"
            ],
            "text/latex": "$\\displaystyle 6.4939399676521$"
          },
          "metadata": {},
          "execution_count": 161
        }
      ]
    },
    {
      "cell_type": "code",
      "source": [
        "np.pi**4/15"
      ],
      "metadata": {
        "colab": {
          "base_uri": "https://localhost:8080/",
          "height": 37
        },
        "id": "1gnA_6QHxJYk",
        "outputId": "de639a61-bd2c-4bc1-ebe1-d189ad5c924a"
      },
      "execution_count": 162,
      "outputs": [
        {
          "output_type": "execute_result",
          "data": {
            "text/plain": [
              "6.493939402266828"
            ],
            "text/latex": "$\\displaystyle 6.49393940226683$"
          },
          "metadata": {},
          "execution_count": 162
        }
      ]
    },
    {
      "cell_type": "code",
      "source": [
        "def f(x):\n",
        "  return np.exp(-x)*np.sin(2*x)"
      ],
      "metadata": {
        "id": "OuqcwhHcxLv8"
      },
      "execution_count": 163,
      "outputs": []
    },
    {
      "cell_type": "code",
      "source": [
        "np.sum(f(Roots)*Weights)"
      ],
      "metadata": {
        "colab": {
          "base_uri": "https://localhost:8080/",
          "height": 37
        },
        "id": "kJJJQQfIyjXL",
        "outputId": "656904c4-b9f8-45b9-e14f-d81ebedff91c"
      },
      "execution_count": 164,
      "outputs": [
        {
          "output_type": "execute_result",
          "data": {
            "text/plain": [
              "np.float64(0.2499655510638305)"
            ],
            "text/latex": "$\\displaystyle 0.249965551063831$"
          },
          "metadata": {},
          "execution_count": 164
        }
      ]
    },
    {
      "cell_type": "code",
      "source": [
        "def f(x):\n",
        "  return np.exp(-2*x)*np.sin(2*x)"
      ],
      "metadata": {
        "id": "R9jGxuE2yymE"
      },
      "execution_count": 166,
      "outputs": []
    },
    {
      "cell_type": "code",
      "source": [
        "integrate.quad(f,0,np.inf)[0]"
      ],
      "metadata": {
        "colab": {
          "base_uri": "https://localhost:8080/",
          "height": 37
        },
        "id": "SZ5hhNDdyk1y",
        "outputId": "0dde877a-9501-48df-d11d-fe5c328597e9"
      },
      "execution_count": 167,
      "outputs": [
        {
          "output_type": "execute_result",
          "data": {
            "text/plain": [
              "0.25"
            ],
            "text/latex": "$\\displaystyle 0.25$"
          },
          "metadata": {},
          "execution_count": 167
        }
      ]
    },
    {
      "cell_type": "code",
      "source": [],
      "metadata": {
        "id": "b2CWOdZ_ywBy"
      },
      "execution_count": null,
      "outputs": []
    }
  ]
}